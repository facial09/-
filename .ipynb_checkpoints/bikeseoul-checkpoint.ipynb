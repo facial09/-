{
 "cells": [
  {
   "cell_type": "code",
   "execution_count": 1,
   "id": "14e2f329",
   "metadata": {},
   "outputs": [],
   "source": [
    "# pip install pandas\n",
    "# pip install matplotlib\n",
    "# pip install seaborn\n",
    "# pip install missingno\n",
    "# pip install sklearn\n",
    "# pip install impyute"
   ]
  },
  {
   "cell_type": "code",
   "execution_count": 2,
   "id": "1a1f34b6",
   "metadata": {
    "scrolled": true
   },
   "outputs": [],
   "source": [
    "#pip install pmdarima"
   ]
  },
  {
   "cell_type": "code",
   "execution_count": 3,
   "id": "c00ff18e",
   "metadata": {},
   "outputs": [],
   "source": [
    "#pip install sktime"
   ]
  },
  {
   "cell_type": "code",
   "execution_count": 4,
   "id": "5788e1a2",
   "metadata": {
    "scrolled": true
   },
   "outputs": [],
   "source": [
    "#pip install xgboost"
   ]
  },
  {
   "cell_type": "code",
   "execution_count": 5,
   "id": "2d800d67",
   "metadata": {},
   "outputs": [],
   "source": [
    "#pip install category-encoders"
   ]
  },
  {
   "cell_type": "code",
   "execution_count": 6,
   "id": "2503ad2f",
   "metadata": {},
   "outputs": [],
   "source": [
    "#pip install feature_engine"
   ]
  },
  {
   "cell_type": "markdown",
   "id": "219bf2e6",
   "metadata": {},
   "source": [
    "# 라이브러리 import"
   ]
  },
  {
   "cell_type": "code",
   "execution_count": 7,
   "id": "af1fe316",
   "metadata": {},
   "outputs": [],
   "source": [
    "import pandas as pd\n",
    "import numpy as np\n",
    "from sklearn.preprocessing import OneHotEncoder\n",
    "from category_encoders.cat_boost import CatBoostEncoder\n",
    "import matplotlib.pyplot as plt\n",
    "import matplotlib.patches as mpatches\n",
    "import seaborn as sns\n",
    "from feature_engine.creation import CyclicalTransformer\n",
    "from sklearn.model_selection import GridSearchCV\n",
    "import missingno as msno\n",
    "from sktime.utils.plotting import plot_series\n",
    "from IPython.display import display_html\n",
    "from itertools import chain,cycle\n",
    "from sklearn.preprocessing import MinMaxScaler\n",
    "from sklearn.preprocessing import OrdinalEncoder\n",
    "from sklearn.linear_model import LinearRegression\n",
    "from impyute.imputation.cs import mice\n",
    "import statsmodels.tsa.api as tsa\n",
    "from sklearn.experimental import enable_iterative_imputer\n",
    "from sklearn.impute import IterativeImputer\n",
    "from sklearn.pipeline import make_pipeline\n",
    "import xgboost\n",
    "from sklearn.ensemble import RandomForestRegressor\n",
    "from sklearn.metrics import mean_absolute_error\n",
    "from xgboost import XGBRegressor\n",
    "from sklearn.model_selection import RandomizedSearchCV\n",
    "from sklearn.preprocessing import StandardScaler, Normalizer"
   ]
  },
  {
   "cell_type": "markdown",
   "id": "649dca27",
   "metadata": {},
   "source": [
    "# Load Data"
   ]
  },
  {
   "cell_type": "code",
   "execution_count": 8,
   "id": "03dcc157",
   "metadata": {
    "scrolled": true
   },
   "outputs": [],
   "source": [
    "train = pd.read_csv('train.csv', index_col = 'date')\n",
    "test = pd.read_csv('test.csv', index_col = 'date')"
   ]
  },
  {
   "cell_type": "markdown",
   "id": "beecd098",
   "metadata": {},
   "source": [
    "# DataFrame 확인"
   ]
  },
  {
   "cell_type": "code",
   "execution_count": 9,
   "id": "1d0b21dc",
   "metadata": {},
   "outputs": [],
   "source": [
    "# 한 셀에 두개 출력을 위한 함수\n",
    "def display_side_by_side(*args,titles=cycle([''])):\n",
    "    html_str=''\n",
    "    for df,title in zip(args, chain(titles,cycle(['</br>'])) ):\n",
    "        html_str+='<th style=\"text-align:center\"><td style=\"vertical-align:top\">'\n",
    "        html_str+=f'<h2>{title}</h2>'\n",
    "        html_str+=df.to_html().replace('table','table style=\"display:inline\"')\n",
    "        html_str+='</td></th>'\n",
    "    display_html(html_str,raw=True)"
   ]
  },
  {
   "cell_type": "code",
   "execution_count": 10,
   "id": "fccd02da",
   "metadata": {
    "scrolled": true
   },
   "outputs": [
    {
     "data": {
      "text/html": [
       "<th style=\"text-align:center\"><td style=\"vertical-align:top\"><h2>Train</h2><table style=\"display:inline\" border=\"1\" class=\"dataframe\">\n",
       "  <thead>\n",
       "    <tr style=\"text-align: right;\">\n",
       "      <th></th>\n",
       "      <th>precipitation</th>\n",
       "      <th>temp_mean</th>\n",
       "      <th>temp_highest</th>\n",
       "      <th>temp_lowest</th>\n",
       "      <th>PM10</th>\n",
       "      <th>PM2.5</th>\n",
       "      <th>humidity</th>\n",
       "      <th>sunshine_sum</th>\n",
       "      <th>sunshine_rate</th>\n",
       "      <th>wind_mean</th>\n",
       "      <th>wind_max</th>\n",
       "      <th>rental</th>\n",
       "    </tr>\n",
       "    <tr>\n",
       "      <th>date</th>\n",
       "      <th></th>\n",
       "      <th></th>\n",
       "      <th></th>\n",
       "      <th></th>\n",
       "      <th></th>\n",
       "      <th></th>\n",
       "      <th></th>\n",
       "      <th></th>\n",
       "      <th></th>\n",
       "      <th></th>\n",
       "      <th></th>\n",
       "      <th></th>\n",
       "    </tr>\n",
       "  </thead>\n",
       "  <tbody>\n",
       "    <tr>\n",
       "      <th>2018-01-01</th>\n",
       "      <td>NaN</td>\n",
       "      <td>-1.3</td>\n",
       "      <td>3.8</td>\n",
       "      <td>-5.1</td>\n",
       "      <td>34.0</td>\n",
       "      <td>17.0</td>\n",
       "      <td>39.1</td>\n",
       "      <td>8.3</td>\n",
       "      <td>86.5</td>\n",
       "      <td>1.4</td>\n",
       "      <td>3.8</td>\n",
       "      <td>4950</td>\n",
       "    </tr>\n",
       "    <tr>\n",
       "      <th>2018-01-02</th>\n",
       "      <td>NaN</td>\n",
       "      <td>-1.8</td>\n",
       "      <td>1.8</td>\n",
       "      <td>-4.3</td>\n",
       "      <td>36.0</td>\n",
       "      <td>22.0</td>\n",
       "      <td>42.0</td>\n",
       "      <td>7.9</td>\n",
       "      <td>82.3</td>\n",
       "      <td>1.8</td>\n",
       "      <td>4.9</td>\n",
       "      <td>7136</td>\n",
       "    </tr>\n",
       "    <tr>\n",
       "      <th>2018-01-03</th>\n",
       "      <td>NaN</td>\n",
       "      <td>-4.7</td>\n",
       "      <td>-0.4</td>\n",
       "      <td>-7.1</td>\n",
       "      <td>31.0</td>\n",
       "      <td>19.0</td>\n",
       "      <td>42.3</td>\n",
       "      <td>8.6</td>\n",
       "      <td>88.7</td>\n",
       "      <td>2.2</td>\n",
       "      <td>3.5</td>\n",
       "      <td>7156</td>\n",
       "    </tr>\n",
       "    <tr>\n",
       "      <th>2018-01-04</th>\n",
       "      <td>NaN</td>\n",
       "      <td>-4.7</td>\n",
       "      <td>-0.7</td>\n",
       "      <td>-8.7</td>\n",
       "      <td>39.0</td>\n",
       "      <td>24.0</td>\n",
       "      <td>43.0</td>\n",
       "      <td>6.2</td>\n",
       "      <td>63.9</td>\n",
       "      <td>1.4</td>\n",
       "      <td>3.5</td>\n",
       "      <td>7102</td>\n",
       "    </tr>\n",
       "    <tr>\n",
       "      <th>2018-01-05</th>\n",
       "      <td>NaN</td>\n",
       "      <td>-3.0</td>\n",
       "      <td>1.6</td>\n",
       "      <td>-5.6</td>\n",
       "      <td>51.0</td>\n",
       "      <td>35.0</td>\n",
       "      <td>48.4</td>\n",
       "      <td>8.2</td>\n",
       "      <td>84.5</td>\n",
       "      <td>1.7</td>\n",
       "      <td>3.6</td>\n",
       "      <td>7705</td>\n",
       "    </tr>\n",
       "  </tbody>\n",
       "</table style=\"display:inline\"></td></th><th style=\"text-align:center\"><td style=\"vertical-align:top\"><h2>Test</h2><table style=\"display:inline\" border=\"1\" class=\"dataframe\">\n",
       "  <thead>\n",
       "    <tr style=\"text-align: right;\">\n",
       "      <th></th>\n",
       "      <th>precipitation</th>\n",
       "      <th>temp_mean</th>\n",
       "      <th>temp_highest</th>\n",
       "      <th>temp_lowest</th>\n",
       "      <th>PM10</th>\n",
       "      <th>PM2.5</th>\n",
       "      <th>humidity</th>\n",
       "      <th>sunshine_sum</th>\n",
       "      <th>sunshine_rate</th>\n",
       "      <th>wind_mean</th>\n",
       "      <th>wind_max</th>\n",
       "    </tr>\n",
       "    <tr>\n",
       "      <th>date</th>\n",
       "      <th></th>\n",
       "      <th></th>\n",
       "      <th></th>\n",
       "      <th></th>\n",
       "      <th></th>\n",
       "      <th></th>\n",
       "      <th></th>\n",
       "      <th></th>\n",
       "      <th></th>\n",
       "      <th></th>\n",
       "      <th></th>\n",
       "    </tr>\n",
       "  </thead>\n",
       "  <tbody>\n",
       "    <tr>\n",
       "      <th>2021-01-01</th>\n",
       "      <td>NaN</td>\n",
       "      <td>-4.2</td>\n",
       "      <td>1.6</td>\n",
       "      <td>-9.8</td>\n",
       "      <td>30.0</td>\n",
       "      <td>17.0</td>\n",
       "      <td>64.0</td>\n",
       "      <td>6.5</td>\n",
       "      <td>67.7</td>\n",
       "      <td>2.0</td>\n",
       "      <td>4.1</td>\n",
       "    </tr>\n",
       "    <tr>\n",
       "      <th>2021-01-02</th>\n",
       "      <td>NaN</td>\n",
       "      <td>-5.0</td>\n",
       "      <td>-1.4</td>\n",
       "      <td>-8.4</td>\n",
       "      <td>34.0</td>\n",
       "      <td>12.0</td>\n",
       "      <td>38.5</td>\n",
       "      <td>9.0</td>\n",
       "      <td>93.8</td>\n",
       "      <td>2.6</td>\n",
       "      <td>5.4</td>\n",
       "    </tr>\n",
       "    <tr>\n",
       "      <th>2021-01-03</th>\n",
       "      <td>NaN</td>\n",
       "      <td>-5.6</td>\n",
       "      <td>-2.0</td>\n",
       "      <td>-9.1</td>\n",
       "      <td>39.0</td>\n",
       "      <td>14.0</td>\n",
       "      <td>45.0</td>\n",
       "      <td>5.5</td>\n",
       "      <td>56.7</td>\n",
       "      <td>2.0</td>\n",
       "      <td>4.5</td>\n",
       "    </tr>\n",
       "    <tr>\n",
       "      <th>2021-01-04</th>\n",
       "      <td>0.0</td>\n",
       "      <td>-3.5</td>\n",
       "      <td>0.3</td>\n",
       "      <td>-8.4</td>\n",
       "      <td>40.0</td>\n",
       "      <td>23.0</td>\n",
       "      <td>51.4</td>\n",
       "      <td>4.6</td>\n",
       "      <td>47.4</td>\n",
       "      <td>1.7</td>\n",
       "      <td>3.2</td>\n",
       "    </tr>\n",
       "    <tr>\n",
       "      <th>2021-01-05</th>\n",
       "      <td>0.0</td>\n",
       "      <td>-5.5</td>\n",
       "      <td>-2.1</td>\n",
       "      <td>-9.9</td>\n",
       "      <td>30.0</td>\n",
       "      <td>17.0</td>\n",
       "      <td>52.8</td>\n",
       "      <td>8.6</td>\n",
       "      <td>88.7</td>\n",
       "      <td>2.9</td>\n",
       "      <td>5.7</td>\n",
       "    </tr>\n",
       "  </tbody>\n",
       "</table style=\"display:inline\"></td></th>"
      ]
     },
     "metadata": {},
     "output_type": "display_data"
    }
   ],
   "source": [
    "display_side_by_side(train.head(),test.head(), titles=['Train','Test'])"
   ]
  },
  {
   "cell_type": "markdown",
   "id": "2dea090e",
   "metadata": {},
   "source": [
    "# 결측치 확인"
   ]
  },
  {
   "cell_type": "code",
   "execution_count": 11,
   "id": "72faeb00",
   "metadata": {},
   "outputs": [
    {
     "name": "stderr",
     "output_type": "stream",
     "text": [
      "/opt/anaconda3/envs/kaggle/lib/python3.7/site-packages/missingno/missingno.py:62: UserWarning: Plotting a sparkline on an existing axis is not currently supported. To remove this warning, set sparkline=False.\n",
      "  \"Plotting a sparkline on an existing axis is not currently supported. \"\n"
     ]
    },
    {
     "data": {
      "image/png": "[encoded data removed]",
      "text/plain": [
       "<Figure size 2880x720 with 8 Axes>"
      ]
     },
     "metadata": {
      "needs_background": "light"
     },
     "output_type": "display_data"
    }
   ],
   "source": [
    "fig , ax = plt.subplots(1,4,figsize= (40,10))\n",
    "\n",
    "msno.matrix(train, ax=ax[0])\n",
    "msno.matrix(test, ax=ax[1])\n",
    "\n",
    "msno.bar(train, ax=ax[2])\n",
    "msno.bar(test, ax=ax[3])\n",
    "\n",
    "for i in range(4):\n",
    "    if i % 2 ==0:\n",
    "        ax[i].set_title('Train Data', fontsize = 30)\n",
    "    else:\n",
    "        ax[i].set_title('Test Data', fontsize = 30)\n",
    "\n",
    "        \n",
    "plt.show()"
   ]
  },
  {
   "cell_type": "code",
   "execution_count": 12,
   "id": "63a12aea",
   "metadata": {
    "scrolled": false
   },
   "outputs": [
    {
     "name": "stdout",
     "output_type": "stream",
     "text": [
      "\u001b[31mTrain's Missing value \u001b[30m\n",
      "\n",
      "precipitation    678\n",
      "temp_mean          0\n",
      "temp_highest       0\n",
      "temp_lowest        0\n",
      "PM10              67\n",
      "PM2.5             68\n",
      "humidity           0\n",
      "sunshine_sum       5\n",
      "sunshine_rate      0\n",
      "wind_mean          0\n",
      "wind_max           0\n",
      "rental             0\n",
      "dtype: int64\n",
      "\n",
      "\u001b[31mTest's Missing value  \n",
      "\n",
      "\u001b[30mprecipitation    205\n",
      "temp_mean          0\n",
      "temp_highest       0\n",
      "temp_lowest        0\n",
      "PM10               0\n",
      "PM2.5              0\n",
      "humidity           0\n",
      "sunshine_sum       1\n",
      "sunshine_rate      0\n",
      "wind_mean          0\n",
      "wind_max           0\n",
      "dtype: int64\n"
     ]
    }
   ],
   "source": [
    "print(f\"\\033[31mTrain's Missing value \\033[30m\\n\\n{train.isna().sum()}\\n\\n\\033[31mTest's Missing value  \\n\\n\\033[30m{test.isna().sum()}\")"
   ]
  },
  {
   "cell_type": "markdown",
   "id": "6638732d",
   "metadata": {},
   "source": [
    "# 결측치 채우기\n",
    "## precipitation = 0으로 채우기\n",
    "## Sunshine_sum\n",
    "## PM : 다양한 방법으로 채워보려고 함\n",
    "## 문제점)\n",
    "### (1) 근거가 있나? 해당날짜 기사를 확인했다 -> 원본데이터 확인과 뭐가 다른지 모르겠음\n",
    "### (2) 결측치 채우는 것이 비단 Train data 뿐만 아니라 test data 에서도 적용되는데, test data의 precipitation 을 0으로 다 채우는               게 일리가 있을까?\n",
    "### (3) 논의 해 볼 내용,, ( 방법을 아직 모르겠음)"
   ]
  },
  {
   "cell_type": "markdown",
   "id": "aa39c7a8",
   "metadata": {},
   "source": [
    "### precipitation"
   ]
  },
  {
   "cell_type": "markdown",
   "id": "79f955d3",
   "metadata": {},
   "source": [
    "# 일단은 0으로 강수량 채움"
   ]
  },
  {
   "cell_type": "code",
   "execution_count": 13,
   "id": "4b2dd8cd",
   "metadata": {},
   "outputs": [],
   "source": [
    "train['precipitation'].fillna(0,inplace = True)"
   ]
  },
  {
   "cell_type": "code",
   "execution_count": 14,
   "id": "cd035a2a",
   "metadata": {},
   "outputs": [
    {
     "data": {
      "text/plain": [
       "0"
      ]
     },
     "execution_count": 14,
     "metadata": {},
     "output_type": "execute_result"
    }
   ],
   "source": [
    "train['precipitation'].isna().sum()"
   ]
  },
  {
   "cell_type": "markdown",
   "id": "4c05e5a1",
   "metadata": {},
   "source": [
    "## Sunshine_sum\n",
    "### sunshine rate 가 0 일때, sunshine sum 이 0 이 아닌 적이 없었으므로, 0으로 채워줌"
   ]
  },
  {
   "cell_type": "code",
   "execution_count": 15,
   "id": "fe2103ae",
   "metadata": {},
   "outputs": [
    {
     "data": {
      "text/html": [
       "<div>\n",
       "<style scoped>\n",
       "    .dataframe tbody tr th:only-of-type {\n",
       "        vertical-align: middle;\n",
       "    }\n",
       "\n",
       "    .dataframe tbody tr th {\n",
       "        vertical-align: top;\n",
       "    }\n",
       "\n",
       "    .dataframe thead th {\n",
       "        text-align: right;\n",
       "    }\n",
       "</style>\n",
       "<table border=\"1\" class=\"dataframe\">\n",
       "  <thead>\n",
       "    <tr style=\"text-align: right;\">\n",
       "      <th></th>\n",
       "      <th>precipitation</th>\n",
       "      <th>temp_mean</th>\n",
       "      <th>temp_highest</th>\n",
       "      <th>temp_lowest</th>\n",
       "      <th>PM10</th>\n",
       "      <th>PM2.5</th>\n",
       "      <th>humidity</th>\n",
       "      <th>sunshine_sum</th>\n",
       "      <th>sunshine_rate</th>\n",
       "      <th>wind_mean</th>\n",
       "      <th>wind_max</th>\n",
       "      <th>rental</th>\n",
       "    </tr>\n",
       "    <tr>\n",
       "      <th>date</th>\n",
       "      <th></th>\n",
       "      <th></th>\n",
       "      <th></th>\n",
       "      <th></th>\n",
       "      <th></th>\n",
       "      <th></th>\n",
       "      <th></th>\n",
       "      <th></th>\n",
       "      <th></th>\n",
       "      <th></th>\n",
       "      <th></th>\n",
       "      <th></th>\n",
       "    </tr>\n",
       "  </thead>\n",
       "  <tbody>\n",
       "    <tr>\n",
       "      <th>2018-01-01</th>\n",
       "      <td>0.0</td>\n",
       "      <td>-1.3</td>\n",
       "      <td>3.8</td>\n",
       "      <td>-5.1</td>\n",
       "      <td>34.0</td>\n",
       "      <td>17.0</td>\n",
       "      <td>39.1</td>\n",
       "      <td>8.3</td>\n",
       "      <td>86.5</td>\n",
       "      <td>1.4</td>\n",
       "      <td>3.8</td>\n",
       "      <td>4950</td>\n",
       "    </tr>\n",
       "    <tr>\n",
       "      <th>2018-01-02</th>\n",
       "      <td>0.0</td>\n",
       "      <td>-1.8</td>\n",
       "      <td>1.8</td>\n",
       "      <td>-4.3</td>\n",
       "      <td>36.0</td>\n",
       "      <td>22.0</td>\n",
       "      <td>42.0</td>\n",
       "      <td>7.9</td>\n",
       "      <td>82.3</td>\n",
       "      <td>1.8</td>\n",
       "      <td>4.9</td>\n",
       "      <td>7136</td>\n",
       "    </tr>\n",
       "    <tr>\n",
       "      <th>2018-01-03</th>\n",
       "      <td>0.0</td>\n",
       "      <td>-4.7</td>\n",
       "      <td>-0.4</td>\n",
       "      <td>-7.1</td>\n",
       "      <td>31.0</td>\n",
       "      <td>19.0</td>\n",
       "      <td>42.3</td>\n",
       "      <td>8.6</td>\n",
       "      <td>88.7</td>\n",
       "      <td>2.2</td>\n",
       "      <td>3.5</td>\n",
       "      <td>7156</td>\n",
       "    </tr>\n",
       "    <tr>\n",
       "      <th>2018-01-04</th>\n",
       "      <td>0.0</td>\n",
       "      <td>-4.7</td>\n",
       "      <td>-0.7</td>\n",
       "      <td>-8.7</td>\n",
       "      <td>39.0</td>\n",
       "      <td>24.0</td>\n",
       "      <td>43.0</td>\n",
       "      <td>6.2</td>\n",
       "      <td>63.9</td>\n",
       "      <td>1.4</td>\n",
       "      <td>3.5</td>\n",
       "      <td>7102</td>\n",
       "    </tr>\n",
       "    <tr>\n",
       "      <th>2018-01-05</th>\n",
       "      <td>0.0</td>\n",
       "      <td>-3.0</td>\n",
       "      <td>1.6</td>\n",
       "      <td>-5.6</td>\n",
       "      <td>51.0</td>\n",
       "      <td>35.0</td>\n",
       "      <td>48.4</td>\n",
       "      <td>8.2</td>\n",
       "      <td>84.5</td>\n",
       "      <td>1.7</td>\n",
       "      <td>3.6</td>\n",
       "      <td>7705</td>\n",
       "    </tr>\n",
       "    <tr>\n",
       "      <th>...</th>\n",
       "      <td>...</td>\n",
       "      <td>...</td>\n",
       "      <td>...</td>\n",
       "      <td>...</td>\n",
       "      <td>...</td>\n",
       "      <td>...</td>\n",
       "      <td>...</td>\n",
       "      <td>...</td>\n",
       "      <td>...</td>\n",
       "      <td>...</td>\n",
       "      <td>...</td>\n",
       "      <td>...</td>\n",
       "    </tr>\n",
       "    <tr>\n",
       "      <th>2020-12-27</th>\n",
       "      <td>0.0</td>\n",
       "      <td>5.8</td>\n",
       "      <td>10.0</td>\n",
       "      <td>1.4</td>\n",
       "      <td>70.0</td>\n",
       "      <td>42.0</td>\n",
       "      <td>62.9</td>\n",
       "      <td>5.9</td>\n",
       "      <td>61.5</td>\n",
       "      <td>1.8</td>\n",
       "      <td>2.8</td>\n",
       "      <td>37103</td>\n",
       "    </tr>\n",
       "    <tr>\n",
       "      <th>2020-12-28</th>\n",
       "      <td>1.3</td>\n",
       "      <td>6.7</td>\n",
       "      <td>11.4</td>\n",
       "      <td>4.2</td>\n",
       "      <td>66.0</td>\n",
       "      <td>44.0</td>\n",
       "      <td>72.1</td>\n",
       "      <td>8.0</td>\n",
       "      <td>83.3</td>\n",
       "      <td>1.4</td>\n",
       "      <td>3.1</td>\n",
       "      <td>46912</td>\n",
       "    </tr>\n",
       "    <tr>\n",
       "      <th>2020-12-29</th>\n",
       "      <td>0.2</td>\n",
       "      <td>0.1</td>\n",
       "      <td>4.3</td>\n",
       "      <td>-6.2</td>\n",
       "      <td>69.0</td>\n",
       "      <td>46.0</td>\n",
       "      <td>70.8</td>\n",
       "      <td>0.0</td>\n",
       "      <td>0.0</td>\n",
       "      <td>2.9</td>\n",
       "      <td>6.1</td>\n",
       "      <td>35747</td>\n",
       "    </tr>\n",
       "    <tr>\n",
       "      <th>2020-12-30</th>\n",
       "      <td>0.0</td>\n",
       "      <td>-10.9</td>\n",
       "      <td>-6.2</td>\n",
       "      <td>-12.9</td>\n",
       "      <td>39.0</td>\n",
       "      <td>15.0</td>\n",
       "      <td>55.5</td>\n",
       "      <td>8.3</td>\n",
       "      <td>86.5</td>\n",
       "      <td>4.1</td>\n",
       "      <td>6.2</td>\n",
       "      <td>22488</td>\n",
       "    </tr>\n",
       "    <tr>\n",
       "      <th>2020-12-31</th>\n",
       "      <td>0.0</td>\n",
       "      <td>-8.9</td>\n",
       "      <td>-5.0</td>\n",
       "      <td>-12.9</td>\n",
       "      <td>28.0</td>\n",
       "      <td>12.0</td>\n",
       "      <td>53.9</td>\n",
       "      <td>6.0</td>\n",
       "      <td>62.5</td>\n",
       "      <td>2.4</td>\n",
       "      <td>4.2</td>\n",
       "      <td>24535</td>\n",
       "    </tr>\n",
       "  </tbody>\n",
       "</table>\n",
       "<p>1095 rows × 12 columns</p>\n",
       "</div>"
      ],
      "text/plain": [
       "            precipitation  temp_mean  temp_highest  temp_lowest  PM10  PM2.5  \\\n",
       "date                                                                           \n",
       "2018-01-01            0.0       -1.3           3.8         -5.1  34.0   17.0   \n",
       "2018-01-02            0.0       -1.8           1.8         -4.3  36.0   22.0   \n",
       "2018-01-03            0.0       -4.7          -0.4         -7.1  31.0   19.0   \n",
       "2018-01-04            0.0       -4.7          -0.7         -8.7  39.0   24.0   \n",
       "2018-01-05            0.0       -3.0           1.6         -5.6  51.0   35.0   \n",
       "...                   ...        ...           ...          ...   ...    ...   \n",
       "2020-12-27            0.0        5.8          10.0          1.4  70.0   42.0   \n",
       "2020-12-28            1.3        6.7          11.4          4.2  66.0   44.0   \n",
       "2020-12-29            0.2        0.1           4.3         -6.2  69.0   46.0   \n",
       "2020-12-30            0.0      -10.9          -6.2        -12.9  39.0   15.0   \n",
       "2020-12-31            0.0       -8.9          -5.0        -12.9  28.0   12.0   \n",
       "\n",
       "            humidity  sunshine_sum  sunshine_rate  wind_mean  wind_max  rental  \n",
       "date                                                                            \n",
       "2018-01-01      39.1           8.3           86.5        1.4       3.8    4950  \n",
       "2018-01-02      42.0           7.9           82.3        1.8       4.9    7136  \n",
       "2018-01-03      42.3           8.6           88.7        2.2       3.5    7156  \n",
       "2018-01-04      43.0           6.2           63.9        1.4       3.5    7102  \n",
       "2018-01-05      48.4           8.2           84.5        1.7       3.6    7705  \n",
       "...              ...           ...            ...        ...       ...     ...  \n",
       "2020-12-27      62.9           5.9           61.5        1.8       2.8   37103  \n",
       "2020-12-28      72.1           8.0           83.3        1.4       3.1   46912  \n",
       "2020-12-29      70.8           0.0            0.0        2.9       6.1   35747  \n",
       "2020-12-30      55.5           8.3           86.5        4.1       6.2   22488  \n",
       "2020-12-31      53.9           6.0           62.5        2.4       4.2   24535  \n",
       "\n",
       "[1095 rows x 12 columns]"
      ]
     },
     "execution_count": 15,
     "metadata": {},
     "output_type": "execute_result"
    }
   ],
   "source": [
    "train"
   ]
  },
  {
   "cell_type": "code",
   "execution_count": 16,
   "id": "af886dcb",
   "metadata": {},
   "outputs": [],
   "source": [
    "train['sunshine_sum'].fillna(0, inplace = True)"
   ]
  },
  {
   "cell_type": "markdown",
   "id": "51cf8611",
   "metadata": {},
   "source": [
    "## PM10, PM2.5 \n",
    "### 다중대체"
   ]
  },
  {
   "cell_type": "code",
   "execution_count": 17,
   "id": "0b43f067",
   "metadata": {},
   "outputs": [],
   "source": [
    "dummy = pd.get_dummies(train)\n",
    "train_mul = pd.DataFrame(IterativeImputer(verbose=False).fit_transform(dummy))\n",
    "train_mul.index = train.index\n",
    "train_mul.columns = train.columns"
   ]
  },
  {
   "cell_type": "code",
   "execution_count": 18,
   "id": "55d93e4b",
   "metadata": {},
   "outputs": [],
   "source": [
    "target = 'rental'\n",
    "features = train_mul.columns.drop([target])\n",
    "# train dataset\n",
    "\n",
    "X_train = train_mul[features].iloc[:995]\n",
    "y_train = train_mul[target].iloc[:995]\n",
    "\n",
    "# validation dataset\n",
    "\n",
    "X_val = train_mul[features].iloc[995:]\n",
    "y_val = train_mul[target].iloc[995:]"
   ]
  },
  {
   "cell_type": "markdown",
   "id": "a2f3d5c4",
   "metadata": {},
   "source": [
    "## LinearRegression"
   ]
  },
  {
   "cell_type": "code",
   "execution_count": 19,
   "id": "3fa1f2de",
   "metadata": {},
   "outputs": [],
   "source": [
    "model = LinearRegression()\n",
    "\n",
    "model.fit(X_train, y_train)\n",
    "y_pred = model.predict(X_val)"
   ]
  },
  {
   "cell_type": "code",
   "execution_count": 20,
   "id": "b4b48936",
   "metadata": {
    "scrolled": false
   },
   "outputs": [],
   "source": [
    "y_val.index = list(range(995,1095))\n",
    "y_pred = pd.Series(y_pred)\n",
    "y_pred.index = list(range(995,1095))\n",
    "y_train.index = range(0,995)"
   ]
  },
  {
   "cell_type": "code",
   "execution_count": 21,
   "id": "37d890b8",
   "metadata": {},
   "outputs": [
    {
     "data": {
      "text/plain": [
       "(<Figure size 1152x288 with 1 Axes>, <AxesSubplot:ylabel='rental'>)"
      ]
     },
     "execution_count": 21,
     "metadata": {},
     "output_type": "execute_result"
    },
    {
     "data": {
      "image/png": "[encoded data removed]",
      "text/plain": [
       "<Figure size 1152x288 with 1 Axes>"
      ]
     },
     "metadata": {
      "needs_background": "light"
     },
     "output_type": "display_data"
    }
   ],
   "source": [
    "plot_series(y_train, y_val, y_pred, markers=['']*3)"
   ]
  },
  {
   "cell_type": "code",
   "execution_count": 22,
   "id": "e49cbc07",
   "metadata": {},
   "outputs": [],
   "source": [
    "def NMAE(true,pred):\n",
    "    return np.mean(np.abs(true - pred) / true)"
   ]
  },
  {
   "cell_type": "code",
   "execution_count": 23,
   "id": "b15a043a",
   "metadata": {},
   "outputs": [
    {
     "data": {
      "text/plain": [
       "0.38282601864140553"
      ]
     },
     "execution_count": 23,
     "metadata": {},
     "output_type": "execute_result"
    }
   ],
   "source": [
    "NMAE(y_val,y_pred)"
   ]
  },
  {
   "cell_type": "markdown",
   "id": "1ffcd9e1",
   "metadata": {},
   "source": [
    "# XGB regressor (결측치 안채워도 알아서 어느정도 해줌. 따라서 확실한 것만 사용)"
   ]
  },
  {
   "cell_type": "markdown",
   "id": "36f2e063",
   "metadata": {},
   "source": [
    "## Train / Val / Test 적용 함수"
   ]
  },
  {
   "cell_type": "code",
   "execution_count": 24,
   "id": "67a3d717",
   "metadata": {},
   "outputs": [],
   "source": [
    "# data를 Train,Validation set 으로 나누고 target과 features를 분리.\n",
    "\n",
    "def divide_data(df):\n",
    "    target = 'rental'\n",
    "    features = df.columns.drop([target])\n",
    "    X_train = df[features].iloc[:729]\n",
    "    y_train = df[target].iloc[:729]\n",
    "    X_val = df[features].iloc[729:]\n",
    "    y_val = df[target].iloc[729:]\n",
    "    return X_train, y_train, X_val, y_val\n",
    "\n",
    "# date에 해당하는 새로운 컬럼들 생성\n",
    "\n",
    "def mkdate(df):\n",
    "    def is_weekend(t):\n",
    "        if t.weekday() >=5:\n",
    "            return 1\n",
    "        else:\n",
    "            return 0\n",
    "    df['date'] = df.index\n",
    "    df['date'] = pd.to_datetime(df['date'])\n",
    "    df['date_year'] = df.date.apply(lambda t : t.year)\n",
    "    df['date_Month'] = df.date.apply(lambda t: t.month)\n",
    "    df['date_day'] = df.date.apply(lambda t: t.day)\n",
    "    df['dayofyear'] = df['date'].dt.dayofyear\n",
    "    df['dayofmonth'] = df['date'].dt.day\n",
    "    df['weekofyear'] = df['date'].dt.isocalendar().week\n",
    "    df['is_weekend'] = df.date.apply(lambda t: is_weekend(t))\n",
    "    return df\n",
    "\n",
    "# 불쾌지수 컬럼 생성\n",
    "\n",
    "def discomport_idx(df): \n",
    "    df['humidity'] = df['humidity'] / 100 \n",
    "    df['discomfort'] = ((9/5) * df['temp_mean']) - 0.55 * (1 - df['humidity']) * (((9/5) * df['temp_mean']) - 26) + 32 \n",
    "    df['discomfort'] = round(df['discomfort'],1)\n",
    "    return df\n",
    "\n",
    "\n",
    "#date, 불쾌지수 컬럼 생성\n",
    "def mkcol(df):\n",
    "    df = mkdate(df)\n",
    "    df = discomport_idx(df)\n",
    "    return df\n",
    "    \n",
    "# datetime64 type Drop\n",
    "\n",
    "def drop_t(df):\n",
    "    df.drop(columns = 'date',inplace = True)\n",
    "    return df\n",
    "\n",
    "### day, month cycling encoding 생각해보기 => 나중에~"
   ]
  },
  {
   "cell_type": "code",
   "execution_count": 25,
   "id": "9c0b5e00",
   "metadata": {},
   "outputs": [],
   "source": [
    "X_train,y_train,X_val,y_val = divide_data(train)\n",
    "X_train = mkcol(X_train)\n",
    "X_val = mkcol(X_val)"
   ]
  },
  {
   "cell_type": "code",
   "execution_count": 26,
   "id": "52b12837",
   "metadata": {},
   "outputs": [],
   "source": [
    "X_train.weekofyear = X_train.weekofyear.astype(int)\n",
    "X_val.weekofyear = X_val.weekofyear.astype(int)"
   ]
  },
  {
   "cell_type": "code",
   "execution_count": 27,
   "id": "13595cac",
   "metadata": {
    "scrolled": true
   },
   "outputs": [
    {
     "data": {
      "text/html": [
       "<div>\n",
       "<style scoped>\n",
       "    .dataframe tbody tr th:only-of-type {\n",
       "        vertical-align: middle;\n",
       "    }\n",
       "\n",
       "    .dataframe tbody tr th {\n",
       "        vertical-align: top;\n",
       "    }\n",
       "\n",
       "    .dataframe thead th {\n",
       "        text-align: right;\n",
       "    }\n",
       "</style>\n",
       "<table border=\"1\" class=\"dataframe\">\n",
       "  <thead>\n",
       "    <tr style=\"text-align: right;\">\n",
       "      <th></th>\n",
       "      <th>precipitation</th>\n",
       "      <th>temp_mean</th>\n",
       "      <th>temp_highest</th>\n",
       "      <th>temp_lowest</th>\n",
       "      <th>PM10</th>\n",
       "      <th>PM2.5</th>\n",
       "      <th>humidity</th>\n",
       "      <th>sunshine_sum</th>\n",
       "      <th>sunshine_rate</th>\n",
       "      <th>wind_mean</th>\n",
       "      <th>wind_max</th>\n",
       "      <th>date_year</th>\n",
       "      <th>date_Month</th>\n",
       "      <th>date_day</th>\n",
       "      <th>dayofyear</th>\n",
       "      <th>dayofmonth</th>\n",
       "      <th>weekofyear</th>\n",
       "      <th>is_weekend</th>\n",
       "      <th>discomfort</th>\n",
       "    </tr>\n",
       "    <tr>\n",
       "      <th>date</th>\n",
       "      <th></th>\n",
       "      <th></th>\n",
       "      <th></th>\n",
       "      <th></th>\n",
       "      <th></th>\n",
       "      <th></th>\n",
       "      <th></th>\n",
       "      <th></th>\n",
       "      <th></th>\n",
       "      <th></th>\n",
       "      <th></th>\n",
       "      <th></th>\n",
       "      <th></th>\n",
       "      <th></th>\n",
       "      <th></th>\n",
       "      <th></th>\n",
       "      <th></th>\n",
       "      <th></th>\n",
       "      <th></th>\n",
       "    </tr>\n",
       "  </thead>\n",
       "  <tbody>\n",
       "    <tr>\n",
       "      <th>2020-01-01</th>\n",
       "      <td>0.1</td>\n",
       "      <td>-2.2</td>\n",
       "      <td>0.3</td>\n",
       "      <td>-6.5</td>\n",
       "      <td>34.0</td>\n",
       "      <td>24.0</td>\n",
       "      <td>0.644</td>\n",
       "      <td>0.8</td>\n",
       "      <td>8.3</td>\n",
       "      <td>0.6</td>\n",
       "      <td>2.6</td>\n",
       "      <td>2020</td>\n",
       "      <td>1</td>\n",
       "      <td>1</td>\n",
       "      <td>1</td>\n",
       "      <td>1</td>\n",
       "      <td>1</td>\n",
       "      <td>0</td>\n",
       "      <td>33.9</td>\n",
       "    </tr>\n",
       "    <tr>\n",
       "      <th>2020-01-02</th>\n",
       "      <td>0.0</td>\n",
       "      <td>1.0</td>\n",
       "      <td>3.8</td>\n",
       "      <td>-0.7</td>\n",
       "      <td>59.0</td>\n",
       "      <td>45.0</td>\n",
       "      <td>0.654</td>\n",
       "      <td>0.0</td>\n",
       "      <td>0.0</td>\n",
       "      <td>1.2</td>\n",
       "      <td>4.0</td>\n",
       "      <td>2020</td>\n",
       "      <td>1</td>\n",
       "      <td>2</td>\n",
       "      <td>2</td>\n",
       "      <td>2</td>\n",
       "      <td>1</td>\n",
       "      <td>0</td>\n",
       "      <td>38.4</td>\n",
       "    </tr>\n",
       "    <tr>\n",
       "      <th>2020-01-03</th>\n",
       "      <td>0.0</td>\n",
       "      <td>-0.1</td>\n",
       "      <td>4.6</td>\n",
       "      <td>-3.4</td>\n",
       "      <td>66.0</td>\n",
       "      <td>48.0</td>\n",
       "      <td>0.569</td>\n",
       "      <td>8.8</td>\n",
       "      <td>90.7</td>\n",
       "      <td>1.7</td>\n",
       "      <td>3.5</td>\n",
       "      <td>2020</td>\n",
       "      <td>1</td>\n",
       "      <td>3</td>\n",
       "      <td>3</td>\n",
       "      <td>3</td>\n",
       "      <td>1</td>\n",
       "      <td>0</td>\n",
       "      <td>38.0</td>\n",
       "    </tr>\n",
       "    <tr>\n",
       "      <th>2020-01-04</th>\n",
       "      <td>0.0</td>\n",
       "      <td>1.2</td>\n",
       "      <td>6.1</td>\n",
       "      <td>-2.8</td>\n",
       "      <td>56.0</td>\n",
       "      <td>41.0</td>\n",
       "      <td>0.508</td>\n",
       "      <td>7.9</td>\n",
       "      <td>81.4</td>\n",
       "      <td>1.9</td>\n",
       "      <td>4.5</td>\n",
       "      <td>2020</td>\n",
       "      <td>1</td>\n",
       "      <td>4</td>\n",
       "      <td>4</td>\n",
       "      <td>4</td>\n",
       "      <td>1</td>\n",
       "      <td>1</td>\n",
       "      <td>40.6</td>\n",
       "    </tr>\n",
       "    <tr>\n",
       "      <th>2020-01-05</th>\n",
       "      <td>0.0</td>\n",
       "      <td>1.3</td>\n",
       "      <td>6.6</td>\n",
       "      <td>-3.2</td>\n",
       "      <td>53.0</td>\n",
       "      <td>39.0</td>\n",
       "      <td>0.456</td>\n",
       "      <td>7.1</td>\n",
       "      <td>73.2</td>\n",
       "      <td>1.1</td>\n",
       "      <td>2.9</td>\n",
       "      <td>2020</td>\n",
       "      <td>1</td>\n",
       "      <td>5</td>\n",
       "      <td>5</td>\n",
       "      <td>5</td>\n",
       "      <td>1</td>\n",
       "      <td>1</td>\n",
       "      <td>41.4</td>\n",
       "    </tr>\n",
       "    <tr>\n",
       "      <th>...</th>\n",
       "      <td>...</td>\n",
       "      <td>...</td>\n",
       "      <td>...</td>\n",
       "      <td>...</td>\n",
       "      <td>...</td>\n",
       "      <td>...</td>\n",
       "      <td>...</td>\n",
       "      <td>...</td>\n",
       "      <td>...</td>\n",
       "      <td>...</td>\n",
       "      <td>...</td>\n",
       "      <td>...</td>\n",
       "      <td>...</td>\n",
       "      <td>...</td>\n",
       "      <td>...</td>\n",
       "      <td>...</td>\n",
       "      <td>...</td>\n",
       "      <td>...</td>\n",
       "      <td>...</td>\n",
       "    </tr>\n",
       "    <tr>\n",
       "      <th>2020-12-27</th>\n",
       "      <td>0.0</td>\n",
       "      <td>5.8</td>\n",
       "      <td>10.0</td>\n",
       "      <td>1.4</td>\n",
       "      <td>70.0</td>\n",
       "      <td>42.0</td>\n",
       "      <td>0.629</td>\n",
       "      <td>5.9</td>\n",
       "      <td>61.5</td>\n",
       "      <td>1.8</td>\n",
       "      <td>2.8</td>\n",
       "      <td>2020</td>\n",
       "      <td>12</td>\n",
       "      <td>27</td>\n",
       "      <td>362</td>\n",
       "      <td>27</td>\n",
       "      <td>52</td>\n",
       "      <td>1</td>\n",
       "      <td>45.6</td>\n",
       "    </tr>\n",
       "    <tr>\n",
       "      <th>2020-12-28</th>\n",
       "      <td>1.3</td>\n",
       "      <td>6.7</td>\n",
       "      <td>11.4</td>\n",
       "      <td>4.2</td>\n",
       "      <td>66.0</td>\n",
       "      <td>44.0</td>\n",
       "      <td>0.721</td>\n",
       "      <td>8.0</td>\n",
       "      <td>83.3</td>\n",
       "      <td>1.4</td>\n",
       "      <td>3.1</td>\n",
       "      <td>2020</td>\n",
       "      <td>12</td>\n",
       "      <td>28</td>\n",
       "      <td>363</td>\n",
       "      <td>28</td>\n",
       "      <td>53</td>\n",
       "      <td>0</td>\n",
       "      <td>46.2</td>\n",
       "    </tr>\n",
       "    <tr>\n",
       "      <th>2020-12-29</th>\n",
       "      <td>0.2</td>\n",
       "      <td>0.1</td>\n",
       "      <td>4.3</td>\n",
       "      <td>-6.2</td>\n",
       "      <td>69.0</td>\n",
       "      <td>46.0</td>\n",
       "      <td>0.708</td>\n",
       "      <td>0.0</td>\n",
       "      <td>0.0</td>\n",
       "      <td>2.9</td>\n",
       "      <td>6.1</td>\n",
       "      <td>2020</td>\n",
       "      <td>12</td>\n",
       "      <td>29</td>\n",
       "      <td>364</td>\n",
       "      <td>29</td>\n",
       "      <td>53</td>\n",
       "      <td>0</td>\n",
       "      <td>36.3</td>\n",
       "    </tr>\n",
       "    <tr>\n",
       "      <th>2020-12-30</th>\n",
       "      <td>0.0</td>\n",
       "      <td>-10.9</td>\n",
       "      <td>-6.2</td>\n",
       "      <td>-12.9</td>\n",
       "      <td>39.0</td>\n",
       "      <td>15.0</td>\n",
       "      <td>0.555</td>\n",
       "      <td>8.3</td>\n",
       "      <td>86.5</td>\n",
       "      <td>4.1</td>\n",
       "      <td>6.2</td>\n",
       "      <td>2020</td>\n",
       "      <td>12</td>\n",
       "      <td>30</td>\n",
       "      <td>365</td>\n",
       "      <td>30</td>\n",
       "      <td>53</td>\n",
       "      <td>0</td>\n",
       "      <td>23.5</td>\n",
       "    </tr>\n",
       "    <tr>\n",
       "      <th>2020-12-31</th>\n",
       "      <td>0.0</td>\n",
       "      <td>-8.9</td>\n",
       "      <td>-5.0</td>\n",
       "      <td>-12.9</td>\n",
       "      <td>28.0</td>\n",
       "      <td>12.0</td>\n",
       "      <td>0.539</td>\n",
       "      <td>6.0</td>\n",
       "      <td>62.5</td>\n",
       "      <td>2.4</td>\n",
       "      <td>4.2</td>\n",
       "      <td>2020</td>\n",
       "      <td>12</td>\n",
       "      <td>31</td>\n",
       "      <td>366</td>\n",
       "      <td>31</td>\n",
       "      <td>53</td>\n",
       "      <td>0</td>\n",
       "      <td>26.6</td>\n",
       "    </tr>\n",
       "  </tbody>\n",
       "</table>\n",
       "<p>366 rows × 19 columns</p>\n",
       "</div>"
      ],
      "text/plain": [
       "            precipitation  temp_mean  temp_highest  temp_lowest  PM10  PM2.5  \\\n",
       "date                                                                           \n",
       "2020-01-01            0.1       -2.2           0.3         -6.5  34.0   24.0   \n",
       "2020-01-02            0.0        1.0           3.8         -0.7  59.0   45.0   \n",
       "2020-01-03            0.0       -0.1           4.6         -3.4  66.0   48.0   \n",
       "2020-01-04            0.0        1.2           6.1         -2.8  56.0   41.0   \n",
       "2020-01-05            0.0        1.3           6.6         -3.2  53.0   39.0   \n",
       "...                   ...        ...           ...          ...   ...    ...   \n",
       "2020-12-27            0.0        5.8          10.0          1.4  70.0   42.0   \n",
       "2020-12-28            1.3        6.7          11.4          4.2  66.0   44.0   \n",
       "2020-12-29            0.2        0.1           4.3         -6.2  69.0   46.0   \n",
       "2020-12-30            0.0      -10.9          -6.2        -12.9  39.0   15.0   \n",
       "2020-12-31            0.0       -8.9          -5.0        -12.9  28.0   12.0   \n",
       "\n",
       "            humidity  sunshine_sum  sunshine_rate  wind_mean  wind_max  \\\n",
       "date                                                                     \n",
       "2020-01-01     0.644           0.8            8.3        0.6       2.6   \n",
       "2020-01-02     0.654           0.0            0.0        1.2       4.0   \n",
       "2020-01-03     0.569           8.8           90.7        1.7       3.5   \n",
       "2020-01-04     0.508           7.9           81.4        1.9       4.5   \n",
       "2020-01-05     0.456           7.1           73.2        1.1       2.9   \n",
       "...              ...           ...            ...        ...       ...   \n",
       "2020-12-27     0.629           5.9           61.5        1.8       2.8   \n",
       "2020-12-28     0.721           8.0           83.3        1.4       3.1   \n",
       "2020-12-29     0.708           0.0            0.0        2.9       6.1   \n",
       "2020-12-30     0.555           8.3           86.5        4.1       6.2   \n",
       "2020-12-31     0.539           6.0           62.5        2.4       4.2   \n",
       "\n",
       "            date_year  date_Month  date_day  dayofyear  dayofmonth  \\\n",
       "date                                                                 \n",
       "2020-01-01       2020           1         1          1           1   \n",
       "2020-01-02       2020           1         2          2           2   \n",
       "2020-01-03       2020           1         3          3           3   \n",
       "2020-01-04       2020           1         4          4           4   \n",
       "2020-01-05       2020           1         5          5           5   \n",
       "...               ...         ...       ...        ...         ...   \n",
       "2020-12-27       2020          12        27        362          27   \n",
       "2020-12-28       2020          12        28        363          28   \n",
       "2020-12-29       2020          12        29        364          29   \n",
       "2020-12-30       2020          12        30        365          30   \n",
       "2020-12-31       2020          12        31        366          31   \n",
       "\n",
       "            weekofyear  is_weekend  discomfort  \n",
       "date                                            \n",
       "2020-01-01           1           0        33.9  \n",
       "2020-01-02           1           0        38.4  \n",
       "2020-01-03           1           0        38.0  \n",
       "2020-01-04           1           1        40.6  \n",
       "2020-01-05           1           1        41.4  \n",
       "...                ...         ...         ...  \n",
       "2020-12-27          52           1        45.6  \n",
       "2020-12-28          53           0        46.2  \n",
       "2020-12-29          53           0        36.3  \n",
       "2020-12-30          53           0        23.5  \n",
       "2020-12-31          53           0        26.6  \n",
       "\n",
       "[366 rows x 19 columns]"
      ]
     },
     "execution_count": 27,
     "metadata": {},
     "output_type": "execute_result"
    }
   ],
   "source": [
    "drop_t(X_train)\n",
    "drop_t(X_val)"
   ]
  },
  {
   "cell_type": "code",
   "execution_count": 28,
   "id": "9f3b9820",
   "metadata": {},
   "outputs": [
    {
     "name": "stdout",
     "output_type": "stream",
     "text": [
      "<class 'pandas.core.frame.DataFrame'>\n",
      "Index: 729 entries, 2018-01-01 to 2019-12-31\n",
      "Data columns (total 19 columns):\n",
      " #   Column         Non-Null Count  Dtype  \n",
      "---  ------         --------------  -----  \n",
      " 0   precipitation  729 non-null    float64\n",
      " 1   temp_mean      729 non-null    float64\n",
      " 2   temp_highest   729 non-null    float64\n",
      " 3   temp_lowest    729 non-null    float64\n",
      " 4   PM10           664 non-null    float64\n",
      " 5   PM2.5          663 non-null    float64\n",
      " 6   humidity       729 non-null    float64\n",
      " 7   sunshine_sum   729 non-null    float64\n",
      " 8   sunshine_rate  729 non-null    float64\n",
      " 9   wind_mean      729 non-null    float64\n",
      " 10  wind_max       729 non-null    float64\n",
      " 11  date_year      729 non-null    int64  \n",
      " 12  date_Month     729 non-null    int64  \n",
      " 13  date_day       729 non-null    int64  \n",
      " 14  dayofyear      729 non-null    int64  \n",
      " 15  dayofmonth     729 non-null    int64  \n",
      " 16  weekofyear     729 non-null    int64  \n",
      " 17  is_weekend     729 non-null    int64  \n",
      " 18  discomfort     729 non-null    float64\n",
      "dtypes: float64(12), int64(7)\n",
      "memory usage: 113.9+ KB\n"
     ]
    }
   ],
   "source": [
    "X_train.info()"
   ]
  },
  {
   "cell_type": "code",
   "execution_count": 30,
   "id": "1c3767f6",
   "metadata": {},
   "outputs": [
    {
     "name": "stdout",
     "output_type": "stream",
     "text": [
      "Fitting 3 folds for each of 1152 candidates, totalling 3456 fits\n"
     ]
    }
   ],
   "source": [
    "boosting  = XGBRegressor()\n",
    "\n",
    "dists = {'n_estimators' : [100,300,500,1000], \n",
    "         'eta' : [0.05, 0.1 , 0.15, 0.2],\n",
    "         'min_child_weight' : np.arange(1, 8, 3), \n",
    "         'max_depth' : np.arange(3,9,3) , \n",
    "         'colsample_bytree' :np.arange(0.5, 1.0, 0.15), \n",
    "         'subsample' :np.arange(0.5, 1.0, 0.2)\n",
    "}\n",
    "\n",
    "clf = GridSearchCV(\n",
    "    estimator = boosting, \n",
    "    param_grid = dists,\n",
    "    refit=True, \n",
    "    cv=3,\n",
    "    scoring='neg_mean_absolute_error',\n",
    "    verbose=1,\n",
    "    n_jobs=-1\n",
    ")\n",
    "\n",
    "clf.fit(X_train, y_train);"
   ]
  },
  {
   "cell_type": "code",
   "execution_count": 31,
   "id": "4b732c1b",
   "metadata": {},
   "outputs": [
    {
     "name": "stdout",
     "output_type": "stream",
     "text": [
      "최적 파라미터:  {'colsample_bytree': 0.5, 'eta': 0.05, 'max_depth': 3, 'min_child_weight': 1, 'n_estimators': 1000, 'subsample': 0.5}\n"
     ]
    }
   ],
   "source": [
    "print('최적 파라미터: ',clf.best_params_)"
   ]
  },
  {
   "cell_type": "code",
   "execution_count": 32,
   "id": "e6cf5bbd",
   "metadata": {},
   "outputs": [
    {
     "data": {
      "text/plain": [
       "-8633.122329356085"
      ]
     },
     "execution_count": 32,
     "metadata": {},
     "output_type": "execute_result"
    }
   ],
   "source": [
    "clf.best_score_"
   ]
  },
  {
   "cell_type": "code",
   "execution_count": 33,
   "id": "b1ecc81b",
   "metadata": {},
   "outputs": [],
   "source": [
    "model_xg = clf.best_estimator_"
   ]
  },
  {
   "cell_type": "code",
   "execution_count": 34,
   "id": "63086e6d",
   "metadata": {},
   "outputs": [],
   "source": [
    "y_pred = model_xg.predict(X_val)"
   ]
  },
  {
   "cell_type": "code",
   "execution_count": 72,
   "id": "d34ade43",
   "metadata": {
    "scrolled": true
   },
   "outputs": [
    {
     "name": "stdout",
     "output_type": "stream",
     "text": [
      "0.2847563328032724\n"
     ]
    },
    {
     "data": {
      "image/png": "[encoded data removed]",
      "text/plain": [
       "<Figure size 1152x288 with 1 Axes>"
      ]
     },
     "metadata": {
      "needs_background": "light"
     },
     "output_type": "display_data"
    }
   ],
   "source": [
    "y_val.index = list(range(729,1095))\n",
    "y_pred = pd.Series(y_pred)\n",
    "y_pred.index = list(range(729,1095))\n",
    "y_train.index = range(0,729)\n",
    "plot_series(y_train, y_val, y_pred, markers=['']*3)\n",
    "print(NMAE(y_val,y_pred))"
   ]
  },
  {
   "cell_type": "code",
   "execution_count": 63,
   "id": "ab0a64b5",
   "metadata": {},
   "outputs": [],
   "source": [
    "test = mkcol(test)\n",
    "test.weekofyear = test.weekofyear.astype(int)\n",
    "test = drop_t(test)"
   ]
  },
  {
   "cell_type": "code",
   "execution_count": 64,
   "id": "3c7da7ab",
   "metadata": {},
   "outputs": [],
   "source": [
    "y_pred_test = model_xg.predict(test)"
   ]
  },
  {
   "cell_type": "code",
   "execution_count": 65,
   "id": "cb58a0bd",
   "metadata": {},
   "outputs": [],
   "source": [
    "y_pred_test = np.round(y_pred_test)"
   ]
  },
  {
   "cell_type": "code",
   "execution_count": 66,
   "id": "95ccbca9",
   "metadata": {
    "scrolled": true
   },
   "outputs": [
    {
     "data": {
      "text/plain": [
       "array([26160., 22257., 24587., 16925., 16243., 12359.,  9601., 15255.,\n",
       "       11591., 13980., 15394., 13745., 18290., 17986., 15991., 12540.,\n",
       "       13871., 12896., 17501., 20941., 14439., 19704., 27265., 32020.,\n",
       "       32924., 16970., 24319., 10569., 17587., 14300., 19822., 14238.,\n",
       "       17760., 14663., 18590., 20652., 18069., 15222., 17877., 20271.,\n",
       "       21414., 20629., 27587., 23474., 24993., 16967., 10833., 16613.,\n",
       "       17485., 22332., 26779., 40298., 29067., 22191., 24282., 22540.,\n",
       "       33839., 40173., 27001.,  9697., 25167., 29969., 31636., 39462.,\n",
       "       27179., 31488., 39322., 35690., 38040., 34315., 30365., 32607.,\n",
       "       28915., 25525., 31461., 43140., 44448., 55260., 21698., 20576.,\n",
       "       35848., 40663., 41677., 45573., 51217., 19084., 17819., 32950.,\n",
       "       48826., 61425., 60617., 58297., 21357., 35700., 56394., 54602.,\n",
       "       57403., 55086., 57901., 54062., 59700., 28750., 27076., 44955.,\n",
       "       55894., 37414., 33335., 42621., 56629., 58902., 62848., 61543.,\n",
       "       48045., 62543., 67255., 68334., 53817., 50262., 51762., 33159.,\n",
       "       30955., 52461., 70829., 28864., 61455., 65169., 43394., 58540.,\n",
       "       70746., 51929., 81002., 77915., 77264., 75053., 44425., 33281.,\n",
       "       35578., 77592., 80476., 53497., 46857., 72224., 72477., 71531.,\n",
       "       52987., 73337., 46338., 52977., 65575., 62462., 57878., 56676.,\n",
       "       78327., 39313., 80203., 75251., 74704., 63519., 77245., 79306.,\n",
       "       58768., 59477., 82951., 78844., 82316., 65070., 84944., 69932.,\n",
       "       45056., 79548., 79510., 84756., 86671., 69571., 88643., 85046.,\n",
       "       62625., 64712., 83252., 74993., 74706., 87822., 85539., 43048.,\n",
       "       34206., 87044., 87126., 55929., 66355., 83665., 70918., 61257.,\n",
       "       84372., 77521., 78296., 76526., 77756., 71913., 72639., 55445.,\n",
       "       86375., 76856., 78907., 77318., 70198., 72415., 76676., 80183.,\n",
       "       79845., 78908., 77732., 57582., 42375., 63325., 81497., 78838.,\n",
       "       75120., 78838., 73203., 47681., 78398., 78478., 81861., 81579.,\n",
       "       83498., 77361., 81534., 83734., 70165., 69665., 87147., 84371.,\n",
       "       52008., 79881., 51351., 44081., 74568., 67336., 66618., 84466.,\n",
       "       72281., 85215., 41487., 50779., 77518., 79866., 84925., 81178.,\n",
       "       49959., 28949., 74206., 89497., 89377., 82917., 85784., 87659.,\n",
       "       87425., 83450., 87352., 91139., 86602., 79584., 89481., 64045.,\n",
       "       68141., 85254., 89609., 63111., 81619., 82500., 68685., 45848.,\n",
       "       91472., 70046., 87079., 85229., 54823., 81977., 57921., 40987.,\n",
       "       55405., 69336., 43697., 68592., 82762., 85180., 89518., 86865.,\n",
       "       65613., 47544., 56035., 54551., 66313., 65644., 71660., 70814.,\n",
       "       71311., 74124., 75679., 72738., 83469., 86718., 71273., 71673.,\n",
       "       72889., 68509., 68273., 65053., 77946., 72353., 75812., 24589.,\n",
       "       28442., 37182., 46141., 48567., 55278., 57018., 57284., 60191.,\n",
       "       52640., 57592., 63061., 49715., 29776., 38961., 40550., 47396.,\n",
       "       45213., 46128., 38940., 43251., 56909., 23694., 33414., 39033.,\n",
       "       36294., 34956., 34547., 42532., 50509., 51417., 42111., 35914.,\n",
       "       32875., 30075., 32551., 34816., 33893., 42630., 29596., 20846.,\n",
       "       26386., 40868., 40230., 38600., 38219., 27807., 18625., 20623.,\n",
       "       28449., 28464., 30268., 28281., 27378.], dtype=float32)"
      ]
     },
     "execution_count": 66,
     "metadata": {},
     "output_type": "execute_result"
    }
   ],
   "source": [
    "y_pred_test"
   ]
  }
 ],
 "metadata": {
  "kernelspec": {
   "display_name": "kaggle",
   "language": "python",
   "name": "kaggle"
  },
  "language_info": {
   "codemirror_mode": {
    "name": "ipython",
    "version": 3
   },
   "file_extension": ".py",
   "mimetype": "text/x-python",
   "name": "python",
   "nbconvert_exporter": "python",
   "pygments_lexer": "ipython3",
   "version": "3.7.13"
  }
 },
 "nbformat": 4,
 "nbformat_minor": 5
}
