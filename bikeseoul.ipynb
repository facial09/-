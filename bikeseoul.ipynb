{
 "cells": [
  {
   "cell_type": "code",
   "execution_count": 1,
   "id": "14e2f329",
   "metadata": {},
   "outputs": [],
   "source": [
    "# pip install pandas\n",
    "# pip install matplotlib\n",
    "# pip install seaborn\n",
    "# pip install missingno\n",
    "# pip install sklearn\n",
    "# pip install impyute"
   ]
  },
  {
   "cell_type": "code",
   "execution_count": 2,
   "id": "1a1f34b6",
   "metadata": {
    "scrolled": true
   },
   "outputs": [],
   "source": [
    "#pip install pmdarima"
   ]
  },
  {
   "cell_type": "code",
   "execution_count": 3,
   "id": "c00ff18e",
   "metadata": {},
   "outputs": [],
   "source": [
    "#pip install sktime"
   ]
  },
  {
   "cell_type": "code",
   "execution_count": 4,
   "id": "5788e1a2",
   "metadata": {
    "scrolled": true
   },
   "outputs": [],
   "source": [
    "#pip install xgboost"
   ]
  },
  {
   "cell_type": "code",
   "execution_count": 5,
   "id": "2d800d67",
   "metadata": {},
   "outputs": [],
   "source": [
    "#pip install category-encoders"
   ]
  },
  {
   "cell_type": "code",
   "execution_count": 6,
   "id": "2503ad2f",
   "metadata": {},
   "outputs": [],
   "source": [
    "#pip install feature_engine"
   ]
  },
  {
   "cell_type": "code",
   "execution_count": 7,
   "id": "7f438ab1",
   "metadata": {},
   "outputs": [],
   "source": [
    "#pip install lightgbm"
   ]
  },
  {
   "cell_type": "markdown",
   "id": "219bf2e6",
   "metadata": {},
   "source": [
    "# 라이브러리 import"
   ]
  },
  {
   "cell_type": "code",
   "execution_count": 8,
   "id": "af1fe316",
   "metadata": {},
   "outputs": [],
   "source": [
    "import pandas as pd\n",
    "import numpy as np\n",
    "from sklearn.preprocessing import OneHotEncoder\n",
    "from category_encoders.cat_boost import CatBoostEncoder\n",
    "import matplotlib.pyplot as plt\n",
    "import matplotlib.patches as mpatches\n",
    "import seaborn as sns\n",
    "from feature_engine.creation import CyclicalTransformer\n",
    "from sklearn.model_selection import GridSearchCV\n",
    "import missingno as msno\n",
    "from sktime.utils.plotting import plot_series\n",
    "from IPython.display import display_html\n",
    "from itertools import chain,cycle\n",
    "from sklearn.preprocessing import MinMaxScaler\n",
    "from sklearn.preprocessing import OrdinalEncoder\n",
    "from sklearn.linear_model import LinearRegression\n",
    "from impyute.imputation.cs import mice\n",
    "import statsmodels.tsa.api as tsa\n",
    "from sklearn.experimental import enable_iterative_imputer\n",
    "from sklearn.impute import IterativeImputer\n",
    "from sklearn.pipeline import make_pipeline\n",
    "import xgboost\n",
    "from sklearn.ensemble import RandomForestRegressor\n",
    "from sklearn.metrics import mean_absolute_error\n",
    "from xgboost import XGBRegressor\n",
    "from sklearn.model_selection import RandomizedSearchCV\n",
    "from sklearn.preprocessing import StandardScaler, Normalizer"
   ]
  },
  {
   "cell_type": "markdown",
   "id": "649dca27",
   "metadata": {},
   "source": [
    "# Load Data"
   ]
  },
  {
   "cell_type": "code",
   "execution_count": 9,
   "id": "03dcc157",
   "metadata": {
    "scrolled": true
   },
   "outputs": [],
   "source": [
    "train = pd.read_csv('train.csv', index_col = 'date')\n",
    "test = pd.read_csv('test.csv', index_col = 'date')"
   ]
  },
  {
   "cell_type": "markdown",
   "id": "beecd098",
   "metadata": {},
   "source": [
    "# DataFrame 확인"
   ]
  },
  {
   "cell_type": "code",
   "execution_count": 10,
   "id": "1d0b21dc",
   "metadata": {},
   "outputs": [],
   "source": [
    "# 한 셀에 두개 출력을 위한 함수\n",
    "def display_side_by_side(*args,titles=cycle([''])):\n",
    "    html_str=''\n",
    "    for df,title in zip(args, chain(titles,cycle(['</br>'])) ):\n",
    "        html_str+='<th style=\"text-align:center\"><td style=\"vertical-align:top\">'\n",
    "        html_str+=f'<h2>{title}</h2>'\n",
    "        html_str+=df.to_html().replace('table','table style=\"display:inline\"')\n",
    "        html_str+='</td></th>'\n",
    "    display_html(html_str,raw=True)"
   ]
  },
  {
   "cell_type": "code",
   "execution_count": 11,
   "id": "fccd02da",
   "metadata": {
    "scrolled": true
   },
   "outputs": [
    {
     "data": {
      "text/html": [
       "<th style=\"text-align:center\"><td style=\"vertical-align:top\"><h2>Train</h2><table style=\"display:inline\" border=\"1\" class=\"dataframe\">\n",
       "  <thead>\n",
       "    <tr style=\"text-align: right;\">\n",
       "      <th></th>\n",
       "      <th>precipitation</th>\n",
       "      <th>temp_mean</th>\n",
       "      <th>temp_highest</th>\n",
       "      <th>temp_lowest</th>\n",
       "      <th>PM10</th>\n",
       "      <th>PM2.5</th>\n",
       "      <th>humidity</th>\n",
       "      <th>sunshine_sum</th>\n",
       "      <th>sunshine_rate</th>\n",
       "      <th>wind_mean</th>\n",
       "      <th>wind_max</th>\n",
       "      <th>rental</th>\n",
       "    </tr>\n",
       "    <tr>\n",
       "      <th>date</th>\n",
       "      <th></th>\n",
       "      <th></th>\n",
       "      <th></th>\n",
       "      <th></th>\n",
       "      <th></th>\n",
       "      <th></th>\n",
       "      <th></th>\n",
       "      <th></th>\n",
       "      <th></th>\n",
       "      <th></th>\n",
       "      <th></th>\n",
       "      <th></th>\n",
       "    </tr>\n",
       "  </thead>\n",
       "  <tbody>\n",
       "    <tr>\n",
       "      <th>2018-01-01</th>\n",
       "      <td>NaN</td>\n",
       "      <td>-1.3</td>\n",
       "      <td>3.8</td>\n",
       "      <td>-5.1</td>\n",
       "      <td>34.0</td>\n",
       "      <td>17.0</td>\n",
       "      <td>39.1</td>\n",
       "      <td>8.3</td>\n",
       "      <td>86.5</td>\n",
       "      <td>1.4</td>\n",
       "      <td>3.8</td>\n",
       "      <td>4950</td>\n",
       "    </tr>\n",
       "    <tr>\n",
       "      <th>2018-01-02</th>\n",
       "      <td>NaN</td>\n",
       "      <td>-1.8</td>\n",
       "      <td>1.8</td>\n",
       "      <td>-4.3</td>\n",
       "      <td>36.0</td>\n",
       "      <td>22.0</td>\n",
       "      <td>42.0</td>\n",
       "      <td>7.9</td>\n",
       "      <td>82.3</td>\n",
       "      <td>1.8</td>\n",
       "      <td>4.9</td>\n",
       "      <td>7136</td>\n",
       "    </tr>\n",
       "    <tr>\n",
       "      <th>2018-01-03</th>\n",
       "      <td>NaN</td>\n",
       "      <td>-4.7</td>\n",
       "      <td>-0.4</td>\n",
       "      <td>-7.1</td>\n",
       "      <td>31.0</td>\n",
       "      <td>19.0</td>\n",
       "      <td>42.3</td>\n",
       "      <td>8.6</td>\n",
       "      <td>88.7</td>\n",
       "      <td>2.2</td>\n",
       "      <td>3.5</td>\n",
       "      <td>7156</td>\n",
       "    </tr>\n",
       "    <tr>\n",
       "      <th>2018-01-04</th>\n",
       "      <td>NaN</td>\n",
       "      <td>-4.7</td>\n",
       "      <td>-0.7</td>\n",
       "      <td>-8.7</td>\n",
       "      <td>39.0</td>\n",
       "      <td>24.0</td>\n",
       "      <td>43.0</td>\n",
       "      <td>6.2</td>\n",
       "      <td>63.9</td>\n",
       "      <td>1.4</td>\n",
       "      <td>3.5</td>\n",
       "      <td>7102</td>\n",
       "    </tr>\n",
       "    <tr>\n",
       "      <th>2018-01-05</th>\n",
       "      <td>NaN</td>\n",
       "      <td>-3.0</td>\n",
       "      <td>1.6</td>\n",
       "      <td>-5.6</td>\n",
       "      <td>51.0</td>\n",
       "      <td>35.0</td>\n",
       "      <td>48.4</td>\n",
       "      <td>8.2</td>\n",
       "      <td>84.5</td>\n",
       "      <td>1.7</td>\n",
       "      <td>3.6</td>\n",
       "      <td>7705</td>\n",
       "    </tr>\n",
       "  </tbody>\n",
       "</table style=\"display:inline\"></td></th><th style=\"text-align:center\"><td style=\"vertical-align:top\"><h2>Test</h2><table style=\"display:inline\" border=\"1\" class=\"dataframe\">\n",
       "  <thead>\n",
       "    <tr style=\"text-align: right;\">\n",
       "      <th></th>\n",
       "      <th>precipitation</th>\n",
       "      <th>temp_mean</th>\n",
       "      <th>temp_highest</th>\n",
       "      <th>temp_lowest</th>\n",
       "      <th>PM10</th>\n",
       "      <th>PM2.5</th>\n",
       "      <th>humidity</th>\n",
       "      <th>sunshine_sum</th>\n",
       "      <th>sunshine_rate</th>\n",
       "      <th>wind_mean</th>\n",
       "      <th>wind_max</th>\n",
       "    </tr>\n",
       "    <tr>\n",
       "      <th>date</th>\n",
       "      <th></th>\n",
       "      <th></th>\n",
       "      <th></th>\n",
       "      <th></th>\n",
       "      <th></th>\n",
       "      <th></th>\n",
       "      <th></th>\n",
       "      <th></th>\n",
       "      <th></th>\n",
       "      <th></th>\n",
       "      <th></th>\n",
       "    </tr>\n",
       "  </thead>\n",
       "  <tbody>\n",
       "    <tr>\n",
       "      <th>2021-01-01</th>\n",
       "      <td>NaN</td>\n",
       "      <td>-4.2</td>\n",
       "      <td>1.6</td>\n",
       "      <td>-9.8</td>\n",
       "      <td>30.0</td>\n",
       "      <td>17.0</td>\n",
       "      <td>64.0</td>\n",
       "      <td>6.5</td>\n",
       "      <td>67.7</td>\n",
       "      <td>2.0</td>\n",
       "      <td>4.1</td>\n",
       "    </tr>\n",
       "    <tr>\n",
       "      <th>2021-01-02</th>\n",
       "      <td>NaN</td>\n",
       "      <td>-5.0</td>\n",
       "      <td>-1.4</td>\n",
       "      <td>-8.4</td>\n",
       "      <td>34.0</td>\n",
       "      <td>12.0</td>\n",
       "      <td>38.5</td>\n",
       "      <td>9.0</td>\n",
       "      <td>93.8</td>\n",
       "      <td>2.6</td>\n",
       "      <td>5.4</td>\n",
       "    </tr>\n",
       "    <tr>\n",
       "      <th>2021-01-03</th>\n",
       "      <td>NaN</td>\n",
       "      <td>-5.6</td>\n",
       "      <td>-2.0</td>\n",
       "      <td>-9.1</td>\n",
       "      <td>39.0</td>\n",
       "      <td>14.0</td>\n",
       "      <td>45.0</td>\n",
       "      <td>5.5</td>\n",
       "      <td>56.7</td>\n",
       "      <td>2.0</td>\n",
       "      <td>4.5</td>\n",
       "    </tr>\n",
       "    <tr>\n",
       "      <th>2021-01-04</th>\n",
       "      <td>0.0</td>\n",
       "      <td>-3.5</td>\n",
       "      <td>0.3</td>\n",
       "      <td>-8.4</td>\n",
       "      <td>40.0</td>\n",
       "      <td>23.0</td>\n",
       "      <td>51.4</td>\n",
       "      <td>4.6</td>\n",
       "      <td>47.4</td>\n",
       "      <td>1.7</td>\n",
       "      <td>3.2</td>\n",
       "    </tr>\n",
       "    <tr>\n",
       "      <th>2021-01-05</th>\n",
       "      <td>0.0</td>\n",
       "      <td>-5.5</td>\n",
       "      <td>-2.1</td>\n",
       "      <td>-9.9</td>\n",
       "      <td>30.0</td>\n",
       "      <td>17.0</td>\n",
       "      <td>52.8</td>\n",
       "      <td>8.6</td>\n",
       "      <td>88.7</td>\n",
       "      <td>2.9</td>\n",
       "      <td>5.7</td>\n",
       "    </tr>\n",
       "  </tbody>\n",
       "</table style=\"display:inline\"></td></th>"
      ]
     },
     "metadata": {},
     "output_type": "display_data"
    }
   ],
   "source": [
    "display_side_by_side(train.head(),test.head(), titles=['Train','Test'])"
   ]
  },
  {
   "cell_type": "markdown",
   "id": "2dea090e",
   "metadata": {},
   "source": [
    "# 결측치 확인"
   ]
  },
  {
   "cell_type": "code",
   "execution_count": 12,
   "id": "72faeb00",
   "metadata": {},
   "outputs": [
    {
     "name": "stderr",
     "output_type": "stream",
     "text": [
      "/opt/anaconda3/envs/kaggle/lib/python3.7/site-packages/missingno/missingno.py:62: UserWarning: Plotting a sparkline on an existing axis is not currently supported. To remove this warning, set sparkline=False.\n",
      "  \"Plotting a sparkline on an existing axis is not currently supported. \"\n"
     ]
    },
    {
     "data": {
      "image/png": "[encoded data removed]",
      "text/plain": [
       "<Figure size 2880x720 with 8 Axes>"
      ]
     },
     "metadata": {
      "needs_background": "light"
     },
     "output_type": "display_data"
    }
   ],
   "source": [
    "fig , ax = plt.subplots(1,4,figsize= (40,10))\n",
    "\n",
    "msno.matrix(train, ax=ax[0])\n",
    "msno.matrix(test, ax=ax[1])\n",
    "\n",
    "msno.bar(train, ax=ax[2])\n",
    "msno.bar(test, ax=ax[3])\n",
    "\n",
    "for i in range(4):\n",
    "    if i % 2 ==0:\n",
    "        ax[i].set_title('Train Data', fontsize = 30)\n",
    "    else:\n",
    "        ax[i].set_title('Test Data', fontsize = 30)\n",
    "\n",
    "        \n",
    "plt.show()"
   ]
  },
  {
   "cell_type": "code",
   "execution_count": 13,
   "id": "63a12aea",
   "metadata": {
    "scrolled": false
   },
   "outputs": [
    {
     "name": "stdout",
     "output_type": "stream",
     "text": [
      "\u001b[31mTrain's Missing value \u001b[30m\n",
      "\n",
      "precipitation    678\n",
      "temp_mean          0\n",
      "temp_highest       0\n",
      "temp_lowest        0\n",
      "PM10              67\n",
      "PM2.5             68\n",
      "humidity           0\n",
      "sunshine_sum       5\n",
      "sunshine_rate      0\n",
      "wind_mean          0\n",
      "wind_max           0\n",
      "rental             0\n",
      "dtype: int64\n",
      "\n",
      "\u001b[31mTest's Missing value  \n",
      "\n",
      "\u001b[30mprecipitation    205\n",
      "temp_mean          0\n",
      "temp_highest       0\n",
      "temp_lowest        0\n",
      "PM10               0\n",
      "PM2.5              0\n",
      "humidity           0\n",
      "sunshine_sum       1\n",
      "sunshine_rate      0\n",
      "wind_mean          0\n",
      "wind_max           0\n",
      "dtype: int64\n"
     ]
    }
   ],
   "source": [
    "print(f\"\\033[31mTrain's Missing value \\033[30m\\n\\n{train.isna().sum()}\\n\\n\\033[31mTest's Missing value  \\n\\n\\033[30m{test.isna().sum()}\")"
   ]
  },
  {
   "cell_type": "markdown",
   "id": "6638732d",
   "metadata": {},
   "source": [
    "# 결측치 채우기\n",
    "## precipitation = 0으로 채우기\n",
    "## Sunshine_sum\n",
    "## PM : 다양한 방법으로 채워보려고 함\n",
    "## 문제점)\n",
    "### (1) 근거가 있나? 해당날짜 기사를 확인했다 -> 원본데이터 확인과 뭐가 다른지 모르겠음\n",
    "### (2) 결측치 채우는 것이 비단 Train data 뿐만 아니라 test data 에서도 적용되는데, test data의 precipitation 을 0으로 다 채우는               게 일리가 있을까?\n",
    "### (3) 논의 해 볼 내용,, ( 방법을 아직 모르겠음)"
   ]
  },
  {
   "cell_type": "markdown",
   "id": "aa39c7a8",
   "metadata": {},
   "source": [
    "### precipitation"
   ]
  },
  {
   "cell_type": "markdown",
   "id": "79f955d3",
   "metadata": {},
   "source": [
    "# 일단은 0으로 강수량 채움"
   ]
  },
  {
   "cell_type": "code",
   "execution_count": 14,
   "id": "4b2dd8cd",
   "metadata": {},
   "outputs": [],
   "source": [
    "train['precipitation'].fillna(0,inplace = True)"
   ]
  },
  {
   "cell_type": "code",
   "execution_count": 15,
   "id": "cd035a2a",
   "metadata": {},
   "outputs": [
    {
     "data": {
      "text/plain": [
       "0"
      ]
     },
     "execution_count": 15,
     "metadata": {},
     "output_type": "execute_result"
    }
   ],
   "source": [
    "train['precipitation'].isna().sum()"
   ]
  },
  {
   "cell_type": "markdown",
   "id": "4c05e5a1",
   "metadata": {},
   "source": [
    "## Sunshine_sum\n",
    "### sunshine rate 가 0 일때, sunshine sum 이 0 이 아닌 적이 없었으므로, 0으로 채워줌"
   ]
  },
  {
   "cell_type": "code",
   "execution_count": 16,
   "id": "fe2103ae",
   "metadata": {},
   "outputs": [
    {
     "data": {
      "text/html": [
       "<div>\n",
       "<style scoped>\n",
       "    .dataframe tbody tr th:only-of-type {\n",
       "        vertical-align: middle;\n",
       "    }\n",
       "\n",
       "    .dataframe tbody tr th {\n",
       "        vertical-align: top;\n",
       "    }\n",
       "\n",
       "    .dataframe thead th {\n",
       "        text-align: right;\n",
       "    }\n",
       "</style>\n",
       "<table border=\"1\" class=\"dataframe\">\n",
       "  <thead>\n",
       "    <tr style=\"text-align: right;\">\n",
       "      <th></th>\n",
       "      <th>precipitation</th>\n",
       "      <th>temp_mean</th>\n",
       "      <th>temp_highest</th>\n",
       "      <th>temp_lowest</th>\n",
       "      <th>PM10</th>\n",
       "      <th>PM2.5</th>\n",
       "      <th>humidity</th>\n",
       "      <th>sunshine_sum</th>\n",
       "      <th>sunshine_rate</th>\n",
       "      <th>wind_mean</th>\n",
       "      <th>wind_max</th>\n",
       "      <th>rental</th>\n",
       "    </tr>\n",
       "    <tr>\n",
       "      <th>date</th>\n",
       "      <th></th>\n",
       "      <th></th>\n",
       "      <th></th>\n",
       "      <th></th>\n",
       "      <th></th>\n",
       "      <th></th>\n",
       "      <th></th>\n",
       "      <th></th>\n",
       "      <th></th>\n",
       "      <th></th>\n",
       "      <th></th>\n",
       "      <th></th>\n",
       "    </tr>\n",
       "  </thead>\n",
       "  <tbody>\n",
       "    <tr>\n",
       "      <th>2018-01-01</th>\n",
       "      <td>0.0</td>\n",
       "      <td>-1.3</td>\n",
       "      <td>3.8</td>\n",
       "      <td>-5.1</td>\n",
       "      <td>34.0</td>\n",
       "      <td>17.0</td>\n",
       "      <td>39.1</td>\n",
       "      <td>8.3</td>\n",
       "      <td>86.5</td>\n",
       "      <td>1.4</td>\n",
       "      <td>3.8</td>\n",
       "      <td>4950</td>\n",
       "    </tr>\n",
       "    <tr>\n",
       "      <th>2018-01-02</th>\n",
       "      <td>0.0</td>\n",
       "      <td>-1.8</td>\n",
       "      <td>1.8</td>\n",
       "      <td>-4.3</td>\n",
       "      <td>36.0</td>\n",
       "      <td>22.0</td>\n",
       "      <td>42.0</td>\n",
       "      <td>7.9</td>\n",
       "      <td>82.3</td>\n",
       "      <td>1.8</td>\n",
       "      <td>4.9</td>\n",
       "      <td>7136</td>\n",
       "    </tr>\n",
       "    <tr>\n",
       "      <th>2018-01-03</th>\n",
       "      <td>0.0</td>\n",
       "      <td>-4.7</td>\n",
       "      <td>-0.4</td>\n",
       "      <td>-7.1</td>\n",
       "      <td>31.0</td>\n",
       "      <td>19.0</td>\n",
       "      <td>42.3</td>\n",
       "      <td>8.6</td>\n",
       "      <td>88.7</td>\n",
       "      <td>2.2</td>\n",
       "      <td>3.5</td>\n",
       "      <td>7156</td>\n",
       "    </tr>\n",
       "    <tr>\n",
       "      <th>2018-01-04</th>\n",
       "      <td>0.0</td>\n",
       "      <td>-4.7</td>\n",
       "      <td>-0.7</td>\n",
       "      <td>-8.7</td>\n",
       "      <td>39.0</td>\n",
       "      <td>24.0</td>\n",
       "      <td>43.0</td>\n",
       "      <td>6.2</td>\n",
       "      <td>63.9</td>\n",
       "      <td>1.4</td>\n",
       "      <td>3.5</td>\n",
       "      <td>7102</td>\n",
       "    </tr>\n",
       "    <tr>\n",
       "      <th>2018-01-05</th>\n",
       "      <td>0.0</td>\n",
       "      <td>-3.0</td>\n",
       "      <td>1.6</td>\n",
       "      <td>-5.6</td>\n",
       "      <td>51.0</td>\n",
       "      <td>35.0</td>\n",
       "      <td>48.4</td>\n",
       "      <td>8.2</td>\n",
       "      <td>84.5</td>\n",
       "      <td>1.7</td>\n",
       "      <td>3.6</td>\n",
       "      <td>7705</td>\n",
       "    </tr>\n",
       "    <tr>\n",
       "      <th>...</th>\n",
       "      <td>...</td>\n",
       "      <td>...</td>\n",
       "      <td>...</td>\n",
       "      <td>...</td>\n",
       "      <td>...</td>\n",
       "      <td>...</td>\n",
       "      <td>...</td>\n",
       "      <td>...</td>\n",
       "      <td>...</td>\n",
       "      <td>...</td>\n",
       "      <td>...</td>\n",
       "      <td>...</td>\n",
       "    </tr>\n",
       "    <tr>\n",
       "      <th>2020-12-27</th>\n",
       "      <td>0.0</td>\n",
       "      <td>5.8</td>\n",
       "      <td>10.0</td>\n",
       "      <td>1.4</td>\n",
       "      <td>70.0</td>\n",
       "      <td>42.0</td>\n",
       "      <td>62.9</td>\n",
       "      <td>5.9</td>\n",
       "      <td>61.5</td>\n",
       "      <td>1.8</td>\n",
       "      <td>2.8</td>\n",
       "      <td>37103</td>\n",
       "    </tr>\n",
       "    <tr>\n",
       "      <th>2020-12-28</th>\n",
       "      <td>1.3</td>\n",
       "      <td>6.7</td>\n",
       "      <td>11.4</td>\n",
       "      <td>4.2</td>\n",
       "      <td>66.0</td>\n",
       "      <td>44.0</td>\n",
       "      <td>72.1</td>\n",
       "      <td>8.0</td>\n",
       "      <td>83.3</td>\n",
       "      <td>1.4</td>\n",
       "      <td>3.1</td>\n",
       "      <td>46912</td>\n",
       "    </tr>\n",
       "    <tr>\n",
       "      <th>2020-12-29</th>\n",
       "      <td>0.2</td>\n",
       "      <td>0.1</td>\n",
       "      <td>4.3</td>\n",
       "      <td>-6.2</td>\n",
       "      <td>69.0</td>\n",
       "      <td>46.0</td>\n",
       "      <td>70.8</td>\n",
       "      <td>0.0</td>\n",
       "      <td>0.0</td>\n",
       "      <td>2.9</td>\n",
       "      <td>6.1</td>\n",
       "      <td>35747</td>\n",
       "    </tr>\n",
       "    <tr>\n",
       "      <th>2020-12-30</th>\n",
       "      <td>0.0</td>\n",
       "      <td>-10.9</td>\n",
       "      <td>-6.2</td>\n",
       "      <td>-12.9</td>\n",
       "      <td>39.0</td>\n",
       "      <td>15.0</td>\n",
       "      <td>55.5</td>\n",
       "      <td>8.3</td>\n",
       "      <td>86.5</td>\n",
       "      <td>4.1</td>\n",
       "      <td>6.2</td>\n",
       "      <td>22488</td>\n",
       "    </tr>\n",
       "    <tr>\n",
       "      <th>2020-12-31</th>\n",
       "      <td>0.0</td>\n",
       "      <td>-8.9</td>\n",
       "      <td>-5.0</td>\n",
       "      <td>-12.9</td>\n",
       "      <td>28.0</td>\n",
       "      <td>12.0</td>\n",
       "      <td>53.9</td>\n",
       "      <td>6.0</td>\n",
       "      <td>62.5</td>\n",
       "      <td>2.4</td>\n",
       "      <td>4.2</td>\n",
       "      <td>24535</td>\n",
       "    </tr>\n",
       "  </tbody>\n",
       "</table>\n",
       "<p>1095 rows × 12 columns</p>\n",
       "</div>"
      ],
      "text/plain": [
       "            precipitation  temp_mean  temp_highest  temp_lowest  PM10  PM2.5  \\\n",
       "date                                                                           \n",
       "2018-01-01            0.0       -1.3           3.8         -5.1  34.0   17.0   \n",
       "2018-01-02            0.0       -1.8           1.8         -4.3  36.0   22.0   \n",
       "2018-01-03            0.0       -4.7          -0.4         -7.1  31.0   19.0   \n",
       "2018-01-04            0.0       -4.7          -0.7         -8.7  39.0   24.0   \n",
       "2018-01-05            0.0       -3.0           1.6         -5.6  51.0   35.0   \n",
       "...                   ...        ...           ...          ...   ...    ...   \n",
       "2020-12-27            0.0        5.8          10.0          1.4  70.0   42.0   \n",
       "2020-12-28            1.3        6.7          11.4          4.2  66.0   44.0   \n",
       "2020-12-29            0.2        0.1           4.3         -6.2  69.0   46.0   \n",
       "2020-12-30            0.0      -10.9          -6.2        -12.9  39.0   15.0   \n",
       "2020-12-31            0.0       -8.9          -5.0        -12.9  28.0   12.0   \n",
       "\n",
       "            humidity  sunshine_sum  sunshine_rate  wind_mean  wind_max  rental  \n",
       "date                                                                            \n",
       "2018-01-01      39.1           8.3           86.5        1.4       3.8    4950  \n",
       "2018-01-02      42.0           7.9           82.3        1.8       4.9    7136  \n",
       "2018-01-03      42.3           8.6           88.7        2.2       3.5    7156  \n",
       "2018-01-04      43.0           6.2           63.9        1.4       3.5    7102  \n",
       "2018-01-05      48.4           8.2           84.5        1.7       3.6    7705  \n",
       "...              ...           ...            ...        ...       ...     ...  \n",
       "2020-12-27      62.9           5.9           61.5        1.8       2.8   37103  \n",
       "2020-12-28      72.1           8.0           83.3        1.4       3.1   46912  \n",
       "2020-12-29      70.8           0.0            0.0        2.9       6.1   35747  \n",
       "2020-12-30      55.5           8.3           86.5        4.1       6.2   22488  \n",
       "2020-12-31      53.9           6.0           62.5        2.4       4.2   24535  \n",
       "\n",
       "[1095 rows x 12 columns]"
      ]
     },
     "execution_count": 16,
     "metadata": {},
     "output_type": "execute_result"
    }
   ],
   "source": [
    "train"
   ]
  },
  {
   "cell_type": "code",
   "execution_count": 17,
   "id": "af886dcb",
   "metadata": {},
   "outputs": [],
   "source": [
    "train['sunshine_sum'].fillna(0, inplace = True)"
   ]
  },
  {
   "cell_type": "markdown",
   "id": "51cf8611",
   "metadata": {},
   "source": [
    "## PM10, PM2.5 \n",
    "### 다중대체"
   ]
  },
  {
   "cell_type": "code",
   "execution_count": 18,
   "id": "0b43f067",
   "metadata": {},
   "outputs": [],
   "source": [
    "dummy = pd.get_dummies(train)\n",
    "train_mul = pd.DataFrame(IterativeImputer(verbose=False).fit_transform(dummy))\n",
    "train_mul.index = train.index\n",
    "train_mul.columns = train.columns"
   ]
  },
  {
   "cell_type": "code",
   "execution_count": 19,
   "id": "55d93e4b",
   "metadata": {},
   "outputs": [],
   "source": [
    "target = 'rental'\n",
    "features = train_mul.columns.drop([target])\n",
    "# train dataset\n",
    "\n",
    "X_train = train_mul[features].iloc[:995]\n",
    "y_train = train_mul[target].iloc[:995]\n",
    "\n",
    "# validation dataset\n",
    "\n",
    "X_val = train_mul[features].iloc[995:]\n",
    "y_val = train_mul[target].iloc[995:]"
   ]
  },
  {
   "cell_type": "markdown",
   "id": "a2f3d5c4",
   "metadata": {},
   "source": [
    "## LinearRegression"
   ]
  },
  {
   "cell_type": "code",
   "execution_count": 20,
   "id": "3fa1f2de",
   "metadata": {},
   "outputs": [],
   "source": [
    "model = LinearRegression()\n",
    "\n",
    "model.fit(X_train, y_train)\n",
    "y_pred = model.predict(X_val)"
   ]
  },
  {
   "cell_type": "code",
   "execution_count": 21,
   "id": "b4b48936",
   "metadata": {
    "scrolled": false
   },
   "outputs": [],
   "source": [
    "y_val.index = list(range(995,1095))\n",
    "y_pred = pd.Series(y_pred)\n",
    "y_pred.index = list(range(995,1095))\n",
    "y_train.index = range(0,995)"
   ]
  },
  {
   "cell_type": "code",
   "execution_count": 22,
   "id": "37d890b8",
   "metadata": {},
   "outputs": [
    {
     "data": {
      "text/plain": [
       "(<Figure size 1152x288 with 1 Axes>, <AxesSubplot:ylabel='rental'>)"
      ]
     },
     "execution_count": 22,
     "metadata": {},
     "output_type": "execute_result"
    },
    {
     "data": {
      "image/png": "[encoded data removed]",
      "text/plain": [
       "<Figure size 1152x288 with 1 Axes>"
      ]
     },
     "metadata": {
      "needs_background": "light"
     },
     "output_type": "display_data"
    }
   ],
   "source": [
    "plot_series(y_train, y_val, y_pred, markers=['']*3)"
   ]
  },
  {
   "cell_type": "code",
   "execution_count": 23,
   "id": "e49cbc07",
   "metadata": {},
   "outputs": [],
   "source": [
    "def NMAE(true,pred):\n",
    "    return np.mean(np.abs(true - pred) / true)"
   ]
  },
  {
   "cell_type": "code",
   "execution_count": 24,
   "id": "b15a043a",
   "metadata": {},
   "outputs": [
    {
     "data": {
      "text/plain": [
       "0.38282601864140553"
      ]
     },
     "execution_count": 24,
     "metadata": {},
     "output_type": "execute_result"
    }
   ],
   "source": [
    "NMAE(y_val,y_pred)"
   ]
  },
  {
   "cell_type": "markdown",
   "id": "1ffcd9e1",
   "metadata": {},
   "source": [
    "# XGB regressor (결측치 안채워도 알아서 어느정도 해줌. 따라서 확실한 것만 사용)"
   ]
  },
  {
   "cell_type": "markdown",
   "id": "36f2e063",
   "metadata": {},
   "source": [
    "## Train / Val / Test 적용 함수"
   ]
  },
  {
   "cell_type": "code",
   "execution_count": 25,
   "id": "67a3d717",
   "metadata": {},
   "outputs": [],
   "source": [
    "# data를 Train,Validation set 으로 나누고 target과 features를 분리.\n",
    "\n",
    "def divide_data(df):\n",
    "    target = 'rental'\n",
    "    features = df.columns.drop([target])\n",
    "    X_train = df[features].iloc[:729]\n",
    "    y_train = df[target].iloc[:729]\n",
    "    X_val = df[features].iloc[729:]\n",
    "    y_val = df[target].iloc[729:]\n",
    "    return X_train, y_train, X_val, y_val\n",
    "\n",
    "def only_divide(df):\n",
    "    target = 'rental'\n",
    "    features = df.columns.drop([target])\n",
    "    X_train = df[features]\n",
    "    y_train = df[target]\n",
    "    return X_train, y_train\n",
    "# date에 해당하는 새로운 컬럼들 생성\n",
    "\n",
    "def mkdate(df):\n",
    "    def is_weekend(t):\n",
    "        if t.weekday() >=5:\n",
    "            return 1\n",
    "        else:\n",
    "            return 0\n",
    "    df['date'] = df.index\n",
    "    df['date'] = pd.to_datetime(df['date'])\n",
    "    df['date_year'] = df.date.apply(lambda t : t.year)\n",
    "    df['date_Month'] = df.date.apply(lambda t: t.month)\n",
    "    df['date_day'] = df.date.apply(lambda t: t.day)\n",
    "    df['dayofyear'] = df['date'].dt.dayofyear\n",
    "    df['dayofmonth'] = df['date'].dt.day\n",
    "    df['weekofyear'] = df['date'].dt.isocalendar().week\n",
    "    df['is_weekend'] = df.date.apply(lambda t: is_weekend(t))\n",
    "    return df\n",
    "\n",
    "# 불쾌지수 컬럼 생성\n",
    "\n",
    "def discomport_idx(df): \n",
    "    df['humidity'] = df['humidity'] / 100 \n",
    "    df['discomfort'] = ((9/5) * df['temp_mean']) - 0.55 * (1 - df['humidity']) * (((9/5) * df['temp_mean']) - 26) + 32 \n",
    "    df['discomfort'] = round(df['discomfort'],1)\n",
    "    return df\n",
    "\n",
    "\n",
    "#date, 불쾌지수 컬럼 생성\n",
    "def mkcol(df):\n",
    "    df = discomport_idx(df)\n",
    "    return df\n",
    "    \n",
    "# datetime64 type Dropb\n",
    "\n",
    "def drop_t(df):\n",
    "    df.drop(columns = 'date',inplace = True)\n",
    "    return df\n",
    "\n",
    "### day, month cycling encoding 생각해보기 => 나중에~"
   ]
  },
  {
   "cell_type": "code",
   "execution_count": 26,
   "id": "1dafc96d",
   "metadata": {},
   "outputs": [],
   "source": [
    "def create_date_features(df):\n",
    "    df['month'] = df.date.dt.month.astype(\"int8\")\n",
    "    df['day_of_month'] = df.date.dt.day.astype(\"int8\")\n",
    "    df['day_of_year'] = df.date.dt.dayofyear.astype(\"int16\")\n",
    "    df['week_of_month'] = (df.date.apply(lambda d: (d.day-1) // 7 + 1)).astype(\"int8\")\n",
    "    df['week_of_year'] = (df.date.dt.weekofyear).astype(\"int8\")\n",
    "    df['day_of_week'] = (df.date.dt.dayofweek + 1).astype(\"int8\")\n",
    "    df['year'] = df.date.dt.year.astype(\"int32\")\n",
    "    df[\"is_wknd\"] = (df.date.dt.weekday // 4).astype(\"int8\")\n",
    "    df[\"quarter\"] = df.date.dt.quarter.astype(\"int8\")\n",
    "    df['is_month_start'] = df.date.dt.is_month_start.astype(\"int8\")\n",
    "    df['is_month_end'] = df.date.dt.is_month_end.astype(\"int8\")\n",
    "    df['is_quarter_start'] = df.date.dt.is_quarter_start.astype(\"int8\")\n",
    "    df['is_quarter_end'] = df.date.dt.is_quarter_end.astype(\"int8\")\n",
    "    df['is_year_start'] = df.date.dt.is_year_start.astype(\"int8\")\n",
    "    df['is_year_end'] = df.date.dt.is_year_end.astype(\"int8\")\n",
    "    # 0: Winter - 1: Spring - 2: Summer - 3: Fall\n",
    "    df[\"season\"] = np.where(df.month.isin([12,1,2]), 0, 1)\n",
    "    df[\"season\"] = np.where(df.month.isin([6,7,8]), 2, df[\"season\"])\n",
    "    df[\"season\"] = pd.Series(np.where(df.month.isin([9, 10, 11]), 3, df[\"season\"])).astype(\"int8\")\n",
    "    return df"
   ]
  },
  {
   "cell_type": "code",
   "execution_count": 27,
   "id": "32d54205",
   "metadata": {},
   "outputs": [],
   "source": [
    "train.reset_index(inplace = True)"
   ]
  },
  {
   "cell_type": "code",
   "execution_count": 28,
   "id": "edbd29a1",
   "metadata": {},
   "outputs": [],
   "source": [
    "train['date']=train['date'].astype({'date': 'datetime64[ns]'})"
   ]
  },
  {
   "cell_type": "code",
   "execution_count": 29,
   "id": "ab2ba3ed",
   "metadata": {},
   "outputs": [
    {
     "name": "stderr",
     "output_type": "stream",
     "text": [
      "/opt/anaconda3/envs/kaggle/lib/python3.7/site-packages/ipykernel_launcher.py:6: FutureWarning: Series.dt.weekofyear and Series.dt.week have been deprecated.  Please use Series.dt.isocalendar().week instead.\n",
      "  \n"
     ]
    }
   ],
   "source": [
    "train = create_date_features(train)"
   ]
  },
  {
   "cell_type": "code",
   "execution_count": 30,
   "id": "f10a5e30",
   "metadata": {},
   "outputs": [],
   "source": [
    "train = mkcol(train)"
   ]
  },
  {
   "cell_type": "code",
   "execution_count": 31,
   "id": "743e1898",
   "metadata": {},
   "outputs": [
    {
     "data": {
      "text/plain": [
       "Index(['date', 'precipitation', 'temp_mean', 'temp_highest', 'temp_lowest',\n",
       "       'PM10', 'PM2.5', 'humidity', 'sunshine_sum', 'sunshine_rate',\n",
       "       'wind_mean', 'wind_max', 'rental', 'month', 'day_of_month',\n",
       "       'day_of_year', 'week_of_month', 'week_of_year', 'day_of_week', 'year',\n",
       "       'is_wknd', 'quarter', 'is_month_start', 'is_month_end',\n",
       "       'is_quarter_start', 'is_quarter_end', 'is_year_start', 'is_year_end',\n",
       "       'season', 'discomfort'],\n",
       "      dtype='object')"
      ]
     },
     "execution_count": 31,
     "metadata": {},
     "output_type": "execute_result"
    }
   ],
   "source": [
    "train.columns"
   ]
  },
  {
   "cell_type": "code",
   "execution_count": 32,
   "id": "9c0b5e00",
   "metadata": {},
   "outputs": [],
   "source": [
    "X_train,y_train,X_val,y_val = divide_data(train)"
   ]
  },
  {
   "cell_type": "code",
   "execution_count": 33,
   "id": "13595cac",
   "metadata": {
    "scrolled": true
   },
   "outputs": [],
   "source": [
    "X_train.drop(columns ='date', inplace = True)"
   ]
  },
  {
   "cell_type": "code",
   "execution_count": 42,
   "id": "ac01a315",
   "metadata": {
    "scrolled": false
   },
   "outputs": [
    {
     "ename": "AttributeError",
     "evalue": "'DataFrame' object has no attribute 'rental'",
     "output_type": "error",
     "traceback": [
      "\u001b[0;31m---------------------------------------------------------------------------\u001b[0m",
      "\u001b[0;31mAttributeError\u001b[0m                            Traceback (most recent call last)",
      "\u001b[0;32m/var/folders/bc/t_lg49kj1072r4cpmxsqr2cc0000gn/T/ipykernel_2911/612031075.py\u001b[0m in \u001b[0;36m<module>\u001b[0;34m\u001b[0m\n\u001b[0;32m----> 1\u001b[0;31m \u001b[0mX_train\u001b[0m\u001b[0;34m.\u001b[0m\u001b[0mrental\u001b[0m\u001b[0;34m\u001b[0m\u001b[0;34m\u001b[0m\u001b[0m\n\u001b[0m",
      "\u001b[0;32m/opt/anaconda3/envs/kaggle/lib/python3.7/site-packages/pandas/core/generic.py\u001b[0m in \u001b[0;36m__getattr__\u001b[0;34m(self, name)\u001b[0m\n\u001b[1;32m   5485\u001b[0m         ):\n\u001b[1;32m   5486\u001b[0m             \u001b[0;32mreturn\u001b[0m \u001b[0mself\u001b[0m\u001b[0;34m[\u001b[0m\u001b[0mname\u001b[0m\u001b[0;34m]\u001b[0m\u001b[0;34m\u001b[0m\u001b[0;34m\u001b[0m\u001b[0m\n\u001b[0;32m-> 5487\u001b[0;31m         \u001b[0;32mreturn\u001b[0m \u001b[0mobject\u001b[0m\u001b[0;34m.\u001b[0m\u001b[0m__getattribute__\u001b[0m\u001b[0;34m(\u001b[0m\u001b[0mself\u001b[0m\u001b[0;34m,\u001b[0m \u001b[0mname\u001b[0m\u001b[0;34m)\u001b[0m\u001b[0;34m\u001b[0m\u001b[0;34m\u001b[0m\u001b[0m\n\u001b[0m\u001b[1;32m   5488\u001b[0m \u001b[0;34m\u001b[0m\u001b[0m\n\u001b[1;32m   5489\u001b[0m     \u001b[0;32mdef\u001b[0m \u001b[0m__setattr__\u001b[0m\u001b[0;34m(\u001b[0m\u001b[0mself\u001b[0m\u001b[0;34m,\u001b[0m \u001b[0mname\u001b[0m\u001b[0;34m:\u001b[0m \u001b[0mstr\u001b[0m\u001b[0;34m,\u001b[0m \u001b[0mvalue\u001b[0m\u001b[0;34m)\u001b[0m \u001b[0;34m->\u001b[0m \u001b[0;32mNone\u001b[0m\u001b[0;34m:\u001b[0m\u001b[0;34m\u001b[0m\u001b[0;34m\u001b[0m\u001b[0m\n",
      "\u001b[0;31mAttributeError\u001b[0m: 'DataFrame' object has no attribute 'rental'"
     ]
    }
   ],
   "source": []
  },
  {
   "cell_type": "code",
   "execution_count": 36,
   "id": "d7892619",
   "metadata": {},
   "outputs": [
    {
     "ename": "OSError",
     "evalue": "dlopen(/opt/anaconda3/envs/kaggle/lib/python3.7/site-packages/lightgbm/lib_lightgbm.so, 0x0006): Library not loaded: /usr/local/opt/libomp/lib/libomp.dylib\n  Referenced from: /opt/anaconda3/envs/kaggle/lib/python3.7/site-packages/lightgbm/lib_lightgbm.so\n  Reason: tried: '/usr/local/opt/libomp/lib/libomp.dylib' (no such file), '/usr/local/lib/libomp.dylib' (no such file), '/usr/lib/libomp.dylib' (no such file)",
     "output_type": "error",
     "traceback": [
      "\u001b[0;31m---------------------------------------------------------------------------\u001b[0m",
      "\u001b[0;31mOSError\u001b[0m                                   Traceback (most recent call last)",
      "\u001b[0;32m/var/folders/bc/t_lg49kj1072r4cpmxsqr2cc0000gn/T/ipykernel_2911/2499767861.py\u001b[0m in \u001b[0;36m<module>\u001b[0;34m\u001b[0m\n\u001b[0;32m----> 1\u001b[0;31m \u001b[0;32mimport\u001b[0m \u001b[0mlightgbm\u001b[0m \u001b[0;32mas\u001b[0m \u001b[0mlgb\u001b[0m\u001b[0;34m\u001b[0m\u001b[0;34m\u001b[0m\u001b[0m\n\u001b[0m\u001b[1;32m      2\u001b[0m \u001b[0;34m\u001b[0m\u001b[0m\n\u001b[1;32m      3\u001b[0m \u001b[0mboostmodel\u001b[0m \u001b[0;34m=\u001b[0m \u001b[0mlgb\u001b[0m\u001b[0;34m.\u001b[0m\u001b[0mLGBMRegressor\u001b[0m\u001b[0;34m(\u001b[0m\u001b[0;34m)\u001b[0m\u001b[0;34m\u001b[0m\u001b[0;34m\u001b[0m\u001b[0m\n\u001b[1;32m      4\u001b[0m params = {\n\u001b[1;32m      5\u001b[0m     \u001b[0;34m'num_leaves'\u001b[0m\u001b[0;34m:\u001b[0m \u001b[0;34m[\u001b[0m\u001b[0;36m7\u001b[0m\u001b[0;34m,\u001b[0m \u001b[0;36m14\u001b[0m\u001b[0;34m,\u001b[0m \u001b[0;36m21\u001b[0m\u001b[0;34m,\u001b[0m \u001b[0;36m28\u001b[0m\u001b[0;34m,\u001b[0m \u001b[0;36m31\u001b[0m\u001b[0;34m,\u001b[0m \u001b[0;36m50\u001b[0m\u001b[0;34m]\u001b[0m\u001b[0;34m,\u001b[0m\u001b[0;34m\u001b[0m\u001b[0;34m\u001b[0m\u001b[0m\n",
      "\u001b[0;32m/opt/anaconda3/envs/kaggle/lib/python3.7/site-packages/lightgbm/__init__.py\u001b[0m in \u001b[0;36m<module>\u001b[0;34m\u001b[0m\n\u001b[1;32m      6\u001b[0m \u001b[0;32mfrom\u001b[0m \u001b[0mpathlib\u001b[0m \u001b[0;32mimport\u001b[0m \u001b[0mPath\u001b[0m\u001b[0;34m\u001b[0m\u001b[0;34m\u001b[0m\u001b[0m\n\u001b[1;32m      7\u001b[0m \u001b[0;34m\u001b[0m\u001b[0m\n\u001b[0;32m----> 8\u001b[0;31m \u001b[0;32mfrom\u001b[0m \u001b[0;34m.\u001b[0m\u001b[0mbasic\u001b[0m \u001b[0;32mimport\u001b[0m \u001b[0mBooster\u001b[0m\u001b[0;34m,\u001b[0m \u001b[0mDataset\u001b[0m\u001b[0;34m,\u001b[0m \u001b[0mSequence\u001b[0m\u001b[0;34m,\u001b[0m \u001b[0mregister_logger\u001b[0m\u001b[0;34m\u001b[0m\u001b[0;34m\u001b[0m\u001b[0m\n\u001b[0m\u001b[1;32m      9\u001b[0m \u001b[0;32mfrom\u001b[0m \u001b[0;34m.\u001b[0m\u001b[0mcallback\u001b[0m \u001b[0;32mimport\u001b[0m \u001b[0mearly_stopping\u001b[0m\u001b[0;34m,\u001b[0m \u001b[0mlog_evaluation\u001b[0m\u001b[0;34m,\u001b[0m \u001b[0mprint_evaluation\u001b[0m\u001b[0;34m,\u001b[0m \u001b[0mrecord_evaluation\u001b[0m\u001b[0;34m,\u001b[0m \u001b[0mreset_parameter\u001b[0m\u001b[0;34m\u001b[0m\u001b[0;34m\u001b[0m\u001b[0m\n\u001b[1;32m     10\u001b[0m \u001b[0;32mfrom\u001b[0m \u001b[0;34m.\u001b[0m\u001b[0mengine\u001b[0m \u001b[0;32mimport\u001b[0m \u001b[0mCVBooster\u001b[0m\u001b[0;34m,\u001b[0m \u001b[0mcv\u001b[0m\u001b[0;34m,\u001b[0m \u001b[0mtrain\u001b[0m\u001b[0;34m\u001b[0m\u001b[0;34m\u001b[0m\u001b[0m\n",
      "\u001b[0;32m/opt/anaconda3/envs/kaggle/lib/python3.7/site-packages/lightgbm/basic.py\u001b[0m in \u001b[0;36m<module>\u001b[0;34m\u001b[0m\n\u001b[1;32m    108\u001b[0m \u001b[0;34m\u001b[0m\u001b[0m\n\u001b[1;32m    109\u001b[0m \u001b[0;34m\u001b[0m\u001b[0m\n\u001b[0;32m--> 110\u001b[0;31m \u001b[0m_LIB\u001b[0m \u001b[0;34m=\u001b[0m \u001b[0m_load_lib\u001b[0m\u001b[0;34m(\u001b[0m\u001b[0;34m)\u001b[0m\u001b[0;34m\u001b[0m\u001b[0;34m\u001b[0m\u001b[0m\n\u001b[0m\u001b[1;32m    111\u001b[0m \u001b[0;34m\u001b[0m\u001b[0m\n\u001b[1;32m    112\u001b[0m \u001b[0;34m\u001b[0m\u001b[0m\n",
      "\u001b[0;32m/opt/anaconda3/envs/kaggle/lib/python3.7/site-packages/lightgbm/basic.py\u001b[0m in \u001b[0;36m_load_lib\u001b[0;34m()\u001b[0m\n\u001b[1;32m     99\u001b[0m     \u001b[0;32mif\u001b[0m \u001b[0mlen\u001b[0m\u001b[0;34m(\u001b[0m\u001b[0mlib_path\u001b[0m\u001b[0;34m)\u001b[0m \u001b[0;34m==\u001b[0m \u001b[0;36m0\u001b[0m\u001b[0;34m:\u001b[0m\u001b[0;34m\u001b[0m\u001b[0;34m\u001b[0m\u001b[0m\n\u001b[1;32m    100\u001b[0m         \u001b[0;32mreturn\u001b[0m \u001b[0;32mNone\u001b[0m\u001b[0;34m\u001b[0m\u001b[0;34m\u001b[0m\u001b[0m\n\u001b[0;32m--> 101\u001b[0;31m     \u001b[0mlib\u001b[0m \u001b[0;34m=\u001b[0m \u001b[0mctypes\u001b[0m\u001b[0;34m.\u001b[0m\u001b[0mcdll\u001b[0m\u001b[0;34m.\u001b[0m\u001b[0mLoadLibrary\u001b[0m\u001b[0;34m(\u001b[0m\u001b[0mlib_path\u001b[0m\u001b[0;34m[\u001b[0m\u001b[0;36m0\u001b[0m\u001b[0;34m]\u001b[0m\u001b[0;34m)\u001b[0m\u001b[0;34m\u001b[0m\u001b[0;34m\u001b[0m\u001b[0m\n\u001b[0m\u001b[1;32m    102\u001b[0m     \u001b[0mlib\u001b[0m\u001b[0;34m.\u001b[0m\u001b[0mLGBM_GetLastError\u001b[0m\u001b[0;34m.\u001b[0m\u001b[0mrestype\u001b[0m \u001b[0;34m=\u001b[0m \u001b[0mctypes\u001b[0m\u001b[0;34m.\u001b[0m\u001b[0mc_char_p\u001b[0m\u001b[0;34m\u001b[0m\u001b[0;34m\u001b[0m\u001b[0m\n\u001b[1;32m    103\u001b[0m     \u001b[0mcallback\u001b[0m \u001b[0;34m=\u001b[0m \u001b[0mctypes\u001b[0m\u001b[0;34m.\u001b[0m\u001b[0mCFUNCTYPE\u001b[0m\u001b[0;34m(\u001b[0m\u001b[0;32mNone\u001b[0m\u001b[0;34m,\u001b[0m \u001b[0mctypes\u001b[0m\u001b[0;34m.\u001b[0m\u001b[0mc_char_p\u001b[0m\u001b[0;34m)\u001b[0m\u001b[0;34m\u001b[0m\u001b[0;34m\u001b[0m\u001b[0m\n",
      "\u001b[0;32m/opt/anaconda3/envs/kaggle/lib/python3.7/ctypes/__init__.py\u001b[0m in \u001b[0;36mLoadLibrary\u001b[0;34m(self, name)\u001b[0m\n\u001b[1;32m    440\u001b[0m \u001b[0;34m\u001b[0m\u001b[0m\n\u001b[1;32m    441\u001b[0m     \u001b[0;32mdef\u001b[0m \u001b[0mLoadLibrary\u001b[0m\u001b[0;34m(\u001b[0m\u001b[0mself\u001b[0m\u001b[0;34m,\u001b[0m \u001b[0mname\u001b[0m\u001b[0;34m)\u001b[0m\u001b[0;34m:\u001b[0m\u001b[0;34m\u001b[0m\u001b[0;34m\u001b[0m\u001b[0m\n\u001b[0;32m--> 442\u001b[0;31m         \u001b[0;32mreturn\u001b[0m \u001b[0mself\u001b[0m\u001b[0;34m.\u001b[0m\u001b[0m_dlltype\u001b[0m\u001b[0;34m(\u001b[0m\u001b[0mname\u001b[0m\u001b[0;34m)\u001b[0m\u001b[0;34m\u001b[0m\u001b[0;34m\u001b[0m\u001b[0m\n\u001b[0m\u001b[1;32m    443\u001b[0m \u001b[0;34m\u001b[0m\u001b[0m\n\u001b[1;32m    444\u001b[0m \u001b[0mcdll\u001b[0m \u001b[0;34m=\u001b[0m \u001b[0mLibraryLoader\u001b[0m\u001b[0;34m(\u001b[0m\u001b[0mCDLL\u001b[0m\u001b[0;34m)\u001b[0m\u001b[0;34m\u001b[0m\u001b[0;34m\u001b[0m\u001b[0m\n",
      "\u001b[0;32m/opt/anaconda3/envs/kaggle/lib/python3.7/ctypes/__init__.py\u001b[0m in \u001b[0;36m__init__\u001b[0;34m(self, name, mode, handle, use_errno, use_last_error)\u001b[0m\n\u001b[1;32m    362\u001b[0m \u001b[0;34m\u001b[0m\u001b[0m\n\u001b[1;32m    363\u001b[0m         \u001b[0;32mif\u001b[0m \u001b[0mhandle\u001b[0m \u001b[0;32mis\u001b[0m \u001b[0;32mNone\u001b[0m\u001b[0;34m:\u001b[0m\u001b[0;34m\u001b[0m\u001b[0;34m\u001b[0m\u001b[0m\n\u001b[0;32m--> 364\u001b[0;31m             \u001b[0mself\u001b[0m\u001b[0;34m.\u001b[0m\u001b[0m_handle\u001b[0m \u001b[0;34m=\u001b[0m \u001b[0m_dlopen\u001b[0m\u001b[0;34m(\u001b[0m\u001b[0mself\u001b[0m\u001b[0;34m.\u001b[0m\u001b[0m_name\u001b[0m\u001b[0;34m,\u001b[0m \u001b[0mmode\u001b[0m\u001b[0;34m)\u001b[0m\u001b[0;34m\u001b[0m\u001b[0;34m\u001b[0m\u001b[0m\n\u001b[0m\u001b[1;32m    365\u001b[0m         \u001b[0;32melse\u001b[0m\u001b[0;34m:\u001b[0m\u001b[0;34m\u001b[0m\u001b[0;34m\u001b[0m\u001b[0m\n\u001b[1;32m    366\u001b[0m             \u001b[0mself\u001b[0m\u001b[0;34m.\u001b[0m\u001b[0m_handle\u001b[0m \u001b[0;34m=\u001b[0m \u001b[0mhandle\u001b[0m\u001b[0;34m\u001b[0m\u001b[0;34m\u001b[0m\u001b[0m\n",
      "\u001b[0;31mOSError\u001b[0m: dlopen(/opt/anaconda3/envs/kaggle/lib/python3.7/site-packages/lightgbm/lib_lightgbm.so, 0x0006): Library not loaded: /usr/local/opt/libomp/lib/libomp.dylib\n  Referenced from: /opt/anaconda3/envs/kaggle/lib/python3.7/site-packages/lightgbm/lib_lightgbm.so\n  Reason: tried: '/usr/local/opt/libomp/lib/libomp.dylib' (no such file), '/usr/local/lib/libomp.dylib' (no such file), '/usr/lib/libomp.dylib' (no such file)"
     ]
    }
   ],
   "source": [
    "import lightgbm as lgb\n",
    "\n",
    "boostmodel = lgb.LGBMRegressor()\n",
    "params = {\n",
    "    'num_leaves': [7, 14, 21, 28, 31, 50],\n",
    "    'learning_rate': [0.1, 0.03, 0.003],\n",
    "    'max_depth': [-1, 3, 5],\n",
    "    'n_estimators': [50, 100, 200, 500],\n",
    "}\n",
    "grid = GridSearchCV(boostmodel(random_state=0), params, scoring='mean_absolute_error', cv=5)\n",
    "grid.fit(X_train, y_train)"
   ]
  },
  {
   "cell_type": "code",
   "execution_count": null,
   "id": "a088b546",
   "metadata": {},
   "outputs": [],
   "source": []
  },
  {
   "cell_type": "markdown",
   "id": "14c5e835",
   "metadata": {},
   "source": [
    "boosting  = XGBRegressor()\n",
    "\n",
    "dists = {'n_estimators' : [500,800,1000], \n",
    "         'eta' : [0.35,0.4,0.45],\n",
    "         'min_child_weight' : np.arange(1, 8, 3), \n",
    "         'max_depth' : np.arange(3,9,3) , \n",
    "         'colsample_bytree' :np.arange(0.5, 1.0, 0.2), \n",
    "         'subsample' :np.arange(0.5, 1.0, 0.2)\n",
    "}\n",
    "\n",
    "clf = GridSearchCV(\n",
    "    estimator = boosting, \n",
    "    param_grid = dists,\n",
    "    refit=True, \n",
    "    cv=3,\n",
    "    scoring='neg_mean_absolute_error',\n",
    "    verbose=1,\n",
    "    n_jobs=-1\n",
    ")\n",
    "\n",
    "clf.fit(X_train, y_train);"
   ]
  },
  {
   "cell_type": "code",
   "execution_count": null,
   "id": "4b732c1b",
   "metadata": {},
   "outputs": [],
   "source": [
    "print('최적 파라미터: ',clf.best_params_)"
   ]
  },
  {
   "cell_type": "code",
   "execution_count": null,
   "id": "e6cf5bbd",
   "metadata": {},
   "outputs": [],
   "source": [
    "clf.best_score_"
   ]
  },
  {
   "cell_type": "code",
   "execution_count": null,
   "id": "381b70f5",
   "metadata": {},
   "outputs": [],
   "source": [
    "X_val.drop(columns='date',inplace = True)"
   ]
  },
  {
   "cell_type": "code",
   "execution_count": null,
   "id": "b1ecc81b",
   "metadata": {},
   "outputs": [],
   "source": [
    "model_xg = clf.best_estimator_"
   ]
  },
  {
   "cell_type": "code",
   "execution_count": null,
   "id": "63086e6d",
   "metadata": {},
   "outputs": [],
   "source": [
    "y_pred = model_xg.predict(X_val)"
   ]
  },
  {
   "cell_type": "code",
   "execution_count": null,
   "id": "d34ade43",
   "metadata": {
    "scrolled": false
   },
   "outputs": [],
   "source": [
    "y_val.index = list(range(729,1095))\n",
    "y_pred = pd.Series(y_pred)\n",
    "y_pred.index = list(range(729,1095))\n",
    "y_train.index = range(0,729)\n",
    "plot_series(y_train, y_val, y_pred, markers=['']*3)\n",
    "print(NMAE(y_val,y_pred))"
   ]
  },
  {
   "cell_type": "code",
   "execution_count": null,
   "id": "ab0a64b5",
   "metadata": {},
   "outputs": [],
   "source": [
    "test = mkcol(test)\n",
    "test.weekofyear = test.weekofyear.astype(int)\n",
    "test = drop_t(test)"
   ]
  },
  {
   "cell_type": "code",
   "execution_count": null,
   "id": "c4b635c7",
   "metadata": {},
   "outputs": [],
   "source": [
    "model_1 = XGBRegressor(colsample_bytree= 0.5, eta= 0.05, max_depth= 3, min_child_weight= 1, n_estimators= 1000, subsample= 0.5)"
   ]
  },
  {
   "cell_type": "code",
   "execution_count": null,
   "id": "cb0d399f",
   "metadata": {},
   "outputs": [],
   "source": [
    "X_train, y_train= only_divide(train)"
   ]
  },
  {
   "cell_type": "code",
   "execution_count": null,
   "id": "ee9529bf",
   "metadata": {},
   "outputs": [],
   "source": [
    "X_train"
   ]
  },
  {
   "cell_type": "code",
   "execution_count": null,
   "id": "7e71e2c3",
   "metadata": {},
   "outputs": [],
   "source": [
    "X_train= mkcol(X_train)\n",
    "X_train = drop_t(X_train)\n",
    "X_train.weekofyear\n",
    "X_train"
   ]
  },
  {
   "cell_type": "code",
   "execution_count": null,
   "id": "2a0e84a5",
   "metadata": {},
   "outputs": [],
   "source": [
    "model_1.fit(X_train,y_train)"
   ]
  },
  {
   "cell_type": "code",
   "execution_count": null,
   "id": "e5efe6be",
   "metadata": {},
   "outputs": [],
   "source": [
    "pred_all= model_1.predict(test)"
   ]
  },
  {
   "cell_type": "code",
   "execution_count": null,
   "id": "60e4a5a0",
   "metadata": {},
   "outputs": [],
   "source": [
    "np.round(pred_all)"
   ]
  },
  {
   "cell_type": "code",
   "execution_count": null,
   "id": "43ad1953",
   "metadata": {},
   "outputs": [],
   "source": [
    "sub_0623 = pd.read_csv('subm3.csv',index_col = 'date')"
   ]
  },
  {
   "cell_type": "code",
   "execution_count": null,
   "id": "92f498a8",
   "metadata": {},
   "outputs": [],
   "source": [
    "sub_0623"
   ]
  },
  {
   "cell_type": "code",
   "execution_count": null,
   "id": "7902444e",
   "metadata": {},
   "outputs": [],
   "source": [
    "sub_0623.rental = sub_0623.rental.astype(int)"
   ]
  },
  {
   "cell_type": "code",
   "execution_count": null,
   "id": "6e7b20d2",
   "metadata": {},
   "outputs": [],
   "source": [
    "sub_0623.to_csv('sub_0623.csv')"
   ]
  },
  {
   "cell_type": "code",
   "execution_count": null,
   "id": "bb8c9e9b",
   "metadata": {},
   "outputs": [],
   "source": [
    "sub_0623.rental = sub_0623.rental + 9500"
   ]
  },
  {
   "cell_type": "code",
   "execution_count": null,
   "id": "0b1651b1",
   "metadata": {},
   "outputs": [],
   "source": [
    "sub_0623.to_csv('sub_0623_Add.csv')"
   ]
  },
  {
   "cell_type": "code",
   "execution_count": null,
   "id": "41f61192",
   "metadata": {},
   "outputs": [],
   "source": []
  }
 ],
 "metadata": {
  "kernelspec": {
   "display_name": "kaggle",
   "language": "python",
   "name": "kaggle"
  },
  "language_info": {
   "codemirror_mode": {
    "name": "ipython",
    "version": 3
   },
   "file_extension": ".py",
   "mimetype": "text/x-python",
   "name": "python",
   "nbconvert_exporter": "python",
   "pygments_lexer": "ipython3",
   "version": "3.7.13"
  }
 },
 "nbformat": 4,
 "nbformat_minor": 5
}
